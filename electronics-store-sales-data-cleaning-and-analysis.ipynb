{
 "cells": [
  {
   "cell_type": "markdown",
   "id": "f1bd0d13",
   "metadata": {
    "_cell_guid": "b1076dfc-b9ad-4769-8c92-a6c4dae69d19",
    "_uuid": "8f2839f25d086af736a60e9eeb907d3b93b6e0e5",
    "papermill": {
     "duration": 0.036807,
     "end_time": "2021-09-13T13:27:59.484254",
     "exception": false,
     "start_time": "2021-09-13T13:27:59.447447",
     "status": "completed"
    },
    "tags": []
   },
   "source": [
    "## This Python 3 environment comes with many helpful analytics libraries installed\n",
    "# It is defined by the kaggle/python Docker image: https://github.com/kaggle/docker-python\n",
    "# For example, here's several helpful packages to load\n",
    "\n",
    "import numpy as np # linear algebra\n",
    "import pandas as pd # data processing, CSV file I/O (e.g. pd.read_csv)\n",
    "\n",
    "# Input data files are available in the read-only \"../input/\" directory\n",
    "# For example, running this (by clicking run or pressing Shift+Enter) will list all files under the input directory\n",
    "\n",
    "import os\n",
    "for dirname, _, filenames in os.walk('/kaggle/input'):\n",
    "    for filename in filenames:\n",
    "        print(os.path.join(dirname, filename))\n",
    "\n",
    "# You can write up to 20GB to the current directory (/kaggle/working/) that gets preserved as output when you create a version using \"Save & Run All\" \n",
    "# You can also write temporary files to /kaggle/temp/, but they won't be saved outside of the current session"
   ]
  },
  {
   "cell_type": "code",
   "execution_count": 1,
   "id": "3d6143d8",
   "metadata": {
    "execution": {
     "iopub.execute_input": "2021-09-13T13:27:59.566943Z",
     "iopub.status.busy": "2021-09-13T13:27:59.558836Z",
     "iopub.status.idle": "2021-09-13T13:27:59.571904Z",
     "shell.execute_reply": "2021-09-13T13:27:59.571073Z",
     "shell.execute_reply.started": "2021-09-13T12:40:02.439716Z"
    },
    "papermill": {
     "duration": 0.051351,
     "end_time": "2021-09-13T13:27:59.572105",
     "exception": false,
     "start_time": "2021-09-13T13:27:59.520754",
     "status": "completed"
    },
    "tags": []
   },
   "outputs": [],
   "source": [
    "import numpy as np\n",
    "import pandas as pd\n",
    "import os\n"
   ]
  },
  {
   "cell_type": "code",
   "execution_count": 2,
   "id": "c069ca27",
   "metadata": {
    "execution": {
     "iopub.execute_input": "2021-09-13T13:27:59.645963Z",
     "iopub.status.busy": "2021-09-13T13:27:59.645027Z",
     "iopub.status.idle": "2021-09-13T13:27:59.650908Z",
     "shell.execute_reply": "2021-09-13T13:27:59.651540Z",
     "shell.execute_reply.started": "2021-09-13T12:40:02.448509Z"
    },
    "papermill": {
     "duration": 0.044486,
     "end_time": "2021-09-13T13:27:59.651716",
     "exception": false,
     "start_time": "2021-09-13T13:27:59.607230",
     "status": "completed"
    },
    "tags": []
   },
   "outputs": [
    {
     "name": "stdout",
     "output_type": "stream",
     "text": [
      "Hi This Project is sales DATA analysis of whole year using PANDA Library  \n"
     ]
    }
   ],
   "source": [
    "print(\"Hi This Project is sales DATA analysis of whole year using PANDA Library  \")"
   ]
  },
  {
   "cell_type": "markdown",
   "id": "057e9c0b",
   "metadata": {
    "papermill": {
     "duration": 0.037642,
     "end_time": "2021-09-13T13:27:59.725896",
     "exception": false,
     "start_time": "2021-09-13T13:27:59.688254",
     "status": "completed"
    },
    "tags": []
   },
   "source": [
    "import file of one month sale january, Just copy/paste file address line from input data"
   ]
  },
  {
   "cell_type": "code",
   "execution_count": 3,
   "id": "6dd44ab2",
   "metadata": {
    "execution": {
     "iopub.execute_input": "2021-09-13T13:27:59.813476Z",
     "iopub.status.busy": "2021-09-13T13:27:59.812588Z",
     "iopub.status.idle": "2021-09-13T13:27:59.908713Z",
     "shell.execute_reply": "2021-09-13T13:27:59.908079Z",
     "shell.execute_reply.started": "2021-09-13T12:40:02.463081Z"
    },
    "papermill": {
     "duration": 0.144732,
     "end_time": "2021-09-13T13:27:59.908885",
     "exception": false,
     "start_time": "2021-09-13T13:27:59.764153",
     "status": "completed"
    },
    "tags": []
   },
   "outputs": [
    {
     "data": {
      "text/html": [
       "<div>\n",
       "<style scoped>\n",
       "    .dataframe tbody tr th:only-of-type {\n",
       "        vertical-align: middle;\n",
       "    }\n",
       "\n",
       "    .dataframe tbody tr th {\n",
       "        vertical-align: top;\n",
       "    }\n",
       "\n",
       "    .dataframe thead th {\n",
       "        text-align: right;\n",
       "    }\n",
       "</style>\n",
       "<table border=\"1\" class=\"dataframe\">\n",
       "  <thead>\n",
       "    <tr style=\"text-align: right;\">\n",
       "      <th></th>\n",
       "      <th>Order ID</th>\n",
       "      <th>Product</th>\n",
       "      <th>Quantity Ordered</th>\n",
       "      <th>Price Each</th>\n",
       "      <th>Order Date</th>\n",
       "      <th>Purchase Address</th>\n",
       "    </tr>\n",
       "  </thead>\n",
       "  <tbody>\n",
       "    <tr>\n",
       "      <th>0</th>\n",
       "      <td>176558</td>\n",
       "      <td>USB-C Charging Cable</td>\n",
       "      <td>2</td>\n",
       "      <td>11.95</td>\n",
       "      <td>04/19/19 08:46</td>\n",
       "      <td>917 1st St, Dallas, TX 75001</td>\n",
       "    </tr>\n",
       "    <tr>\n",
       "      <th>1</th>\n",
       "      <td>NaN</td>\n",
       "      <td>NaN</td>\n",
       "      <td>NaN</td>\n",
       "      <td>NaN</td>\n",
       "      <td>NaN</td>\n",
       "      <td>NaN</td>\n",
       "    </tr>\n",
       "    <tr>\n",
       "      <th>2</th>\n",
       "      <td>176559</td>\n",
       "      <td>Bose SoundSport Headphones</td>\n",
       "      <td>1</td>\n",
       "      <td>99.99</td>\n",
       "      <td>04/07/19 22:30</td>\n",
       "      <td>682 Chestnut St, Boston, MA 02215</td>\n",
       "    </tr>\n",
       "    <tr>\n",
       "      <th>3</th>\n",
       "      <td>176560</td>\n",
       "      <td>Google Phone</td>\n",
       "      <td>1</td>\n",
       "      <td>600</td>\n",
       "      <td>04/12/19 14:38</td>\n",
       "      <td>669 Spruce St, Los Angeles, CA 90001</td>\n",
       "    </tr>\n",
       "    <tr>\n",
       "      <th>4</th>\n",
       "      <td>176560</td>\n",
       "      <td>Wired Headphones</td>\n",
       "      <td>1</td>\n",
       "      <td>11.99</td>\n",
       "      <td>04/12/19 14:38</td>\n",
       "      <td>669 Spruce St, Los Angeles, CA 90001</td>\n",
       "    </tr>\n",
       "  </tbody>\n",
       "</table>\n",
       "</div>"
      ],
      "text/plain": [
       "  Order ID                     Product Quantity Ordered Price Each  \\\n",
       "0   176558        USB-C Charging Cable                2      11.95   \n",
       "1      NaN                         NaN              NaN        NaN   \n",
       "2   176559  Bose SoundSport Headphones                1      99.99   \n",
       "3   176560                Google Phone                1        600   \n",
       "4   176560            Wired Headphones                1      11.99   \n",
       "\n",
       "       Order Date                      Purchase Address  \n",
       "0  04/19/19 08:46          917 1st St, Dallas, TX 75001  \n",
       "1             NaN                                   NaN  \n",
       "2  04/07/19 22:30     682 Chestnut St, Boston, MA 02215  \n",
       "3  04/12/19 14:38  669 Spruce St, Los Angeles, CA 90001  \n",
       "4  04/12/19 14:38  669 Spruce St, Los Angeles, CA 90001  "
      ]
     },
     "execution_count": 3,
     "metadata": {},
     "output_type": "execute_result"
    }
   ],
   "source": [
    "\n",
    "ap = pd.read_csv(\"../input/year-data-sale/Sales_April_2019.csv\")\n",
    "ap.head()\n"
   ]
  },
  {
   "cell_type": "code",
   "execution_count": 4,
   "id": "a803867b",
   "metadata": {
    "execution": {
     "iopub.execute_input": "2021-09-13T13:27:59.986435Z",
     "iopub.status.busy": "2021-09-13T13:27:59.985635Z",
     "iopub.status.idle": "2021-09-13T13:27:59.988732Z",
     "shell.execute_reply": "2021-09-13T13:27:59.989224Z",
     "shell.execute_reply.started": "2021-09-13T12:40:02.543970Z"
    },
    "papermill": {
     "duration": 0.044292,
     "end_time": "2021-09-13T13:27:59.989390",
     "exception": false,
     "start_time": "2021-09-13T13:27:59.945098",
     "status": "completed"
    },
    "tags": []
   },
   "outputs": [
    {
     "name": "stdout",
     "output_type": "stream",
     "text": [
      "shape of ap (18383, 6)\n"
     ]
    }
   ],
   "source": [
    "# Check shape of data in ap file\n",
    "print('shape of ap', ap.shape)"
   ]
  },
  {
   "cell_type": "markdown",
   "id": "5dab617b",
   "metadata": {
    "papermill": {
     "duration": 0.035689,
     "end_time": "2021-09-13T13:28:00.061602",
     "exception": false,
     "start_time": "2021-09-13T13:28:00.025913",
     "status": "completed"
    },
    "tags": []
   },
   "source": [
    "Import multiple files from input data set"
   ]
  },
  {
   "cell_type": "code",
   "execution_count": 5,
   "id": "a9961a2f",
   "metadata": {
    "execution": {
     "iopub.execute_input": "2021-09-13T13:28:00.137137Z",
     "iopub.status.busy": "2021-09-13T13:28:00.135115Z",
     "iopub.status.idle": "2021-09-13T13:28:00.147644Z",
     "shell.execute_reply": "2021-09-13T13:28:00.148371Z",
     "shell.execute_reply.started": "2021-09-13T12:40:02.552745Z"
    },
    "papermill": {
     "duration": 0.051219,
     "end_time": "2021-09-13T13:28:00.148606",
     "exception": false,
     "start_time": "2021-09-13T13:28:00.097387",
     "status": "completed"
    },
    "tags": []
   },
   "outputs": [
    {
     "name": "stdout",
     "output_type": "stream",
     "text": [
      "Sales_August_2019.csv\n",
      "Sales_May_2019.csv\n",
      "Sales_February_2019.csv\n",
      "Sales_November_2019.csv\n",
      "Sales_January_2019.csv\n",
      "Sales_March_2019.csv\n",
      "Sales_September_2019.csv\n",
      "Sales_April_2019.csv\n",
      "Sales_July_2019.csv\n",
      "Sales_October_2019.csv\n",
      "Sales_June_2019.csv\n",
      "Sales_December_2019.csv\n"
     ]
    }
   ],
   "source": [
    "\n",
    "\n",
    "files = [file for file in os.listdir('../input/year-data-sale')]\n",
    "for file in files: \n",
    "    print(file)\n"
   ]
  },
  {
   "cell_type": "markdown",
   "id": "86728f61",
   "metadata": {
    "papermill": {
     "duration": 0.03576,
     "end_time": "2021-09-13T13:28:00.220630",
     "exception": false,
     "start_time": "2021-09-13T13:28:00.184870",
     "status": "completed"
    },
    "tags": []
   },
   "source": [
    "to mearge all data file and make a one big data file, \n",
    "keep in mind to put last \"/\" in line \"(df = pd.read_csv(\"../input/year-data-sale/\"+file)\""
   ]
  },
  {
   "cell_type": "code",
   "execution_count": 6,
   "id": "a5f4ce52",
   "metadata": {
    "execution": {
     "iopub.execute_input": "2021-09-13T13:28:00.309560Z",
     "iopub.status.busy": "2021-09-13T13:28:00.308868Z",
     "iopub.status.idle": "2021-09-13T13:28:01.088495Z",
     "shell.execute_reply": "2021-09-13T13:28:01.087719Z",
     "shell.execute_reply.started": "2021-09-13T12:40:02.566440Z"
    },
    "papermill": {
     "duration": 0.831218,
     "end_time": "2021-09-13T13:28:01.088659",
     "exception": false,
     "start_time": "2021-09-13T13:28:00.257441",
     "status": "completed"
    },
    "tags": []
   },
   "outputs": [
    {
     "data": {
      "text/html": [
       "<div>\n",
       "<style scoped>\n",
       "    .dataframe tbody tr th:only-of-type {\n",
       "        vertical-align: middle;\n",
       "    }\n",
       "\n",
       "    .dataframe tbody tr th {\n",
       "        vertical-align: top;\n",
       "    }\n",
       "\n",
       "    .dataframe thead th {\n",
       "        text-align: right;\n",
       "    }\n",
       "</style>\n",
       "<table border=\"1\" class=\"dataframe\">\n",
       "  <thead>\n",
       "    <tr style=\"text-align: right;\">\n",
       "      <th></th>\n",
       "      <th>Order ID</th>\n",
       "      <th>Product</th>\n",
       "      <th>Quantity Ordered</th>\n",
       "      <th>Price Each</th>\n",
       "      <th>Order Date</th>\n",
       "      <th>Purchase Address</th>\n",
       "    </tr>\n",
       "  </thead>\n",
       "  <tbody>\n",
       "    <tr>\n",
       "      <th>0</th>\n",
       "      <td>236670</td>\n",
       "      <td>Wired Headphones</td>\n",
       "      <td>2</td>\n",
       "      <td>11.99</td>\n",
       "      <td>08/31/19 22:21</td>\n",
       "      <td>359 Spruce St, Seattle, WA 98101</td>\n",
       "    </tr>\n",
       "    <tr>\n",
       "      <th>1</th>\n",
       "      <td>236671</td>\n",
       "      <td>Bose SoundSport Headphones</td>\n",
       "      <td>1</td>\n",
       "      <td>99.99</td>\n",
       "      <td>08/15/19 15:11</td>\n",
       "      <td>492 Ridge St, Dallas, TX 75001</td>\n",
       "    </tr>\n",
       "    <tr>\n",
       "      <th>2</th>\n",
       "      <td>236672</td>\n",
       "      <td>iPhone</td>\n",
       "      <td>1</td>\n",
       "      <td>700.0</td>\n",
       "      <td>08/06/19 14:40</td>\n",
       "      <td>149 7th St, Portland, OR 97035</td>\n",
       "    </tr>\n",
       "    <tr>\n",
       "      <th>3</th>\n",
       "      <td>236673</td>\n",
       "      <td>AA Batteries (4-pack)</td>\n",
       "      <td>2</td>\n",
       "      <td>3.84</td>\n",
       "      <td>08/29/19 20:59</td>\n",
       "      <td>631 2nd St, Los Angeles, CA 90001</td>\n",
       "    </tr>\n",
       "    <tr>\n",
       "      <th>4</th>\n",
       "      <td>236674</td>\n",
       "      <td>AA Batteries (4-pack)</td>\n",
       "      <td>2</td>\n",
       "      <td>3.84</td>\n",
       "      <td>08/15/19 19:53</td>\n",
       "      <td>736 14th St, New York City, NY 10001</td>\n",
       "    </tr>\n",
       "  </tbody>\n",
       "</table>\n",
       "</div>"
      ],
      "text/plain": [
       "  Order ID                     Product Quantity Ordered Price Each  \\\n",
       "0   236670            Wired Headphones                2      11.99   \n",
       "1   236671  Bose SoundSport Headphones                1      99.99   \n",
       "2   236672                      iPhone                1      700.0   \n",
       "3   236673       AA Batteries (4-pack)                2       3.84   \n",
       "4   236674       AA Batteries (4-pack)                2       3.84   \n",
       "\n",
       "       Order Date                      Purchase Address  \n",
       "0  08/31/19 22:21      359 Spruce St, Seattle, WA 98101  \n",
       "1  08/15/19 15:11        492 Ridge St, Dallas, TX 75001  \n",
       "2  08/06/19 14:40        149 7th St, Portland, OR 97035  \n",
       "3  08/29/19 20:59     631 2nd St, Los Angeles, CA 90001  \n",
       "4  08/15/19 19:53  736 14th St, New York City, NY 10001  "
      ]
     },
     "execution_count": 6,
     "metadata": {},
     "output_type": "execute_result"
    }
   ],
   "source": [
    "\n",
    "\n",
    "# providing empty dataframe to read the data\n",
    "year_data = pd.DataFrame()\n",
    "\n",
    "# now giving for loop to read and mearge all files\n",
    "for file in files: \n",
    "    dd = pd.read_csv(\"../input/year-data-sale/\"+file)\n",
    "    year_data = pd.concat([year_data, dd])\n",
    "\n",
    "year_data.head()\n"
   ]
  },
  {
   "cell_type": "markdown",
   "id": "af4ae6f4",
   "metadata": {
    "execution": {
     "iopub.execute_input": "2021-09-11T06:22:10.097874Z",
     "iopub.status.busy": "2021-09-11T06:22:10.097641Z",
     "iopub.status.idle": "2021-09-11T06:22:10.102154Z",
     "shell.execute_reply": "2021-09-11T06:22:10.100931Z",
     "shell.execute_reply.started": "2021-09-11T06:22:10.097847Z"
    },
    "papermill": {
     "duration": 0.037589,
     "end_time": "2021-09-13T13:28:01.163011",
     "exception": false,
     "start_time": "2021-09-13T13:28:01.125422",
     "status": "completed"
    },
    "tags": []
   },
   "source": [
    "to remove the index numbring from file\n",
    "\n",
    "#year_data.to_csv(\"year_data.csv\", index = False)\n",
    "\n",
    "know the shape of data"
   ]
  },
  {
   "cell_type": "code",
   "execution_count": 7,
   "id": "2fc1a226",
   "metadata": {
    "execution": {
     "iopub.execute_input": "2021-09-13T13:28:01.240522Z",
     "iopub.status.busy": "2021-09-13T13:28:01.239919Z",
     "iopub.status.idle": "2021-09-13T13:28:01.246190Z",
     "shell.execute_reply": "2021-09-13T13:28:01.245192Z",
     "shell.execute_reply.started": "2021-09-13T12:40:03.188928Z"
    },
    "papermill": {
     "duration": 0.045971,
     "end_time": "2021-09-13T13:28:01.246470",
     "exception": false,
     "start_time": "2021-09-13T13:28:01.200499",
     "status": "completed"
    },
    "tags": []
   },
   "outputs": [
    {
     "name": "stdout",
     "output_type": "stream",
     "text": [
      "shape of year data (186850, 6)\n"
     ]
    }
   ],
   "source": [
    "print('shape of year data', year_data.shape)"
   ]
  },
  {
   "cell_type": "markdown",
   "id": "43156441",
   "metadata": {
    "papermill": {
     "duration": 0.053956,
     "end_time": "2021-09-13T13:28:01.345957",
     "exception": false,
     "start_time": "2021-09-13T13:28:01.292001",
     "status": "completed"
    },
    "tags": []
   },
   "source": [
    "# DATA cleaning section!"
   ]
  },
  {
   "cell_type": "markdown",
   "id": "daa2e7f6",
   "metadata": {
    "papermill": {
     "duration": 0.037061,
     "end_time": "2021-09-13T13:28:01.424152",
     "exception": false,
     "start_time": "2021-09-13T13:28:01.387091",
     "status": "completed"
    },
    "tags": []
   },
   "source": [
    "\n",
    "remove all NAN rows from panadas data frame (that is sales data set we uploaded)\n",
    "\n",
    "standared sytex => df1 = df[df.isna().any(axis =1)]\n",
    "\n",
    "df1 = new name for data set\n",
    "\n",
    "df =>  give here your data frame name that you used in previos lines\n",
    "\n",
    "axis = 1 means => rows\n",
    "\n",
    "remaining are builtin commands in this syntax"
   ]
  },
  {
   "cell_type": "code",
   "execution_count": 8,
   "id": "91cff045",
   "metadata": {
    "execution": {
     "iopub.execute_input": "2021-09-13T13:28:01.624115Z",
     "iopub.status.busy": "2021-09-13T13:28:01.623395Z",
     "iopub.status.idle": "2021-09-13T13:28:01.637834Z",
     "shell.execute_reply": "2021-09-13T13:28:01.638335Z",
     "shell.execute_reply.started": "2021-09-13T12:40:03.194947Z"
    },
    "papermill": {
     "duration": 0.177566,
     "end_time": "2021-09-13T13:28:01.638502",
     "exception": false,
     "start_time": "2021-09-13T13:28:01.460936",
     "status": "completed"
    },
    "tags": []
   },
   "outputs": [
    {
     "data": {
      "text/html": [
       "<div>\n",
       "<style scoped>\n",
       "    .dataframe tbody tr th:only-of-type {\n",
       "        vertical-align: middle;\n",
       "    }\n",
       "\n",
       "    .dataframe tbody tr th {\n",
       "        vertical-align: top;\n",
       "    }\n",
       "\n",
       "    .dataframe thead th {\n",
       "        text-align: right;\n",
       "    }\n",
       "</style>\n",
       "<table border=\"1\" class=\"dataframe\">\n",
       "  <thead>\n",
       "    <tr style=\"text-align: right;\">\n",
       "      <th></th>\n",
       "      <th>Order ID</th>\n",
       "      <th>Product</th>\n",
       "      <th>Quantity Ordered</th>\n",
       "      <th>Price Each</th>\n",
       "      <th>Order Date</th>\n",
       "      <th>Purchase Address</th>\n",
       "    </tr>\n",
       "  </thead>\n",
       "  <tbody>\n",
       "    <tr>\n",
       "      <th>312</th>\n",
       "      <td>NaN</td>\n",
       "      <td>NaN</td>\n",
       "      <td>NaN</td>\n",
       "      <td>NaN</td>\n",
       "      <td>NaN</td>\n",
       "      <td>NaN</td>\n",
       "    </tr>\n",
       "    <tr>\n",
       "      <th>1222</th>\n",
       "      <td>NaN</td>\n",
       "      <td>NaN</td>\n",
       "      <td>NaN</td>\n",
       "      <td>NaN</td>\n",
       "      <td>NaN</td>\n",
       "      <td>NaN</td>\n",
       "    </tr>\n",
       "    <tr>\n",
       "      <th>2648</th>\n",
       "      <td>NaN</td>\n",
       "      <td>NaN</td>\n",
       "      <td>NaN</td>\n",
       "      <td>NaN</td>\n",
       "      <td>NaN</td>\n",
       "      <td>NaN</td>\n",
       "    </tr>\n",
       "    <tr>\n",
       "      <th>2685</th>\n",
       "      <td>NaN</td>\n",
       "      <td>NaN</td>\n",
       "      <td>NaN</td>\n",
       "      <td>NaN</td>\n",
       "      <td>NaN</td>\n",
       "      <td>NaN</td>\n",
       "    </tr>\n",
       "    <tr>\n",
       "      <th>3119</th>\n",
       "      <td>NaN</td>\n",
       "      <td>NaN</td>\n",
       "      <td>NaN</td>\n",
       "      <td>NaN</td>\n",
       "      <td>NaN</td>\n",
       "      <td>NaN</td>\n",
       "    </tr>\n",
       "  </tbody>\n",
       "</table>\n",
       "</div>"
      ],
      "text/plain": [
       "     Order ID Product Quantity Ordered Price Each Order Date Purchase Address\n",
       "312       NaN     NaN              NaN        NaN        NaN              NaN\n",
       "1222      NaN     NaN              NaN        NaN        NaN              NaN\n",
       "2648      NaN     NaN              NaN        NaN        NaN              NaN\n",
       "2685      NaN     NaN              NaN        NaN        NaN              NaN\n",
       "3119      NaN     NaN              NaN        NaN        NaN              NaN"
      ]
     },
     "execution_count": 8,
     "metadata": {},
     "output_type": "execute_result"
    }
   ],
   "source": [
    "nan_rows = year_data[year_data.isna().any(axis =1)]\n",
    "nan_rows.head()"
   ]
  },
  {
   "cell_type": "markdown",
   "id": "39dad08b",
   "metadata": {
    "papermill": {
     "duration": 0.04001,
     "end_time": "2021-09-13T13:28:01.719433",
     "exception": false,
     "start_time": "2021-09-13T13:28:01.679423",
     "status": "completed"
    },
    "tags": []
   },
   "source": [
    "Drop the rows that all fully filled with NAN\n",
    "\n",
    "for rows partially filled with NAN we use other statistical methods like mean, median, mode etc\n",
    "\n",
    "\n",
    "standard syntex=> df = df.dropna(condition)"
   ]
  },
  {
   "cell_type": "code",
   "execution_count": 9,
   "id": "57595629",
   "metadata": {
    "execution": {
     "iopub.execute_input": "2021-09-13T13:28:01.922625Z",
     "iopub.status.busy": "2021-09-13T13:28:01.921483Z",
     "iopub.status.idle": "2021-09-13T13:28:01.950937Z",
     "shell.execute_reply": "2021-09-13T13:28:01.951435Z",
     "shell.execute_reply.started": "2021-09-13T12:40:03.268985Z"
    },
    "papermill": {
     "duration": 0.192828,
     "end_time": "2021-09-13T13:28:01.951658",
     "exception": false,
     "start_time": "2021-09-13T13:28:01.758830",
     "status": "completed"
    },
    "tags": []
   },
   "outputs": [
    {
     "data": {
      "text/html": [
       "<div>\n",
       "<style scoped>\n",
       "    .dataframe tbody tr th:only-of-type {\n",
       "        vertical-align: middle;\n",
       "    }\n",
       "\n",
       "    .dataframe tbody tr th {\n",
       "        vertical-align: top;\n",
       "    }\n",
       "\n",
       "    .dataframe thead th {\n",
       "        text-align: right;\n",
       "    }\n",
       "</style>\n",
       "<table border=\"1\" class=\"dataframe\">\n",
       "  <thead>\n",
       "    <tr style=\"text-align: right;\">\n",
       "      <th></th>\n",
       "      <th>Order ID</th>\n",
       "      <th>Product</th>\n",
       "      <th>Quantity Ordered</th>\n",
       "      <th>Price Each</th>\n",
       "      <th>Order Date</th>\n",
       "      <th>Purchase Address</th>\n",
       "    </tr>\n",
       "  </thead>\n",
       "  <tbody>\n",
       "    <tr>\n",
       "      <th>0</th>\n",
       "      <td>236670</td>\n",
       "      <td>Wired Headphones</td>\n",
       "      <td>2</td>\n",
       "      <td>11.99</td>\n",
       "      <td>08/31/19 22:21</td>\n",
       "      <td>359 Spruce St, Seattle, WA 98101</td>\n",
       "    </tr>\n",
       "    <tr>\n",
       "      <th>1</th>\n",
       "      <td>236671</td>\n",
       "      <td>Bose SoundSport Headphones</td>\n",
       "      <td>1</td>\n",
       "      <td>99.99</td>\n",
       "      <td>08/15/19 15:11</td>\n",
       "      <td>492 Ridge St, Dallas, TX 75001</td>\n",
       "    </tr>\n",
       "    <tr>\n",
       "      <th>2</th>\n",
       "      <td>236672</td>\n",
       "      <td>iPhone</td>\n",
       "      <td>1</td>\n",
       "      <td>700.0</td>\n",
       "      <td>08/06/19 14:40</td>\n",
       "      <td>149 7th St, Portland, OR 97035</td>\n",
       "    </tr>\n",
       "    <tr>\n",
       "      <th>3</th>\n",
       "      <td>236673</td>\n",
       "      <td>AA Batteries (4-pack)</td>\n",
       "      <td>2</td>\n",
       "      <td>3.84</td>\n",
       "      <td>08/29/19 20:59</td>\n",
       "      <td>631 2nd St, Los Angeles, CA 90001</td>\n",
       "    </tr>\n",
       "    <tr>\n",
       "      <th>4</th>\n",
       "      <td>236674</td>\n",
       "      <td>AA Batteries (4-pack)</td>\n",
       "      <td>2</td>\n",
       "      <td>3.84</td>\n",
       "      <td>08/15/19 19:53</td>\n",
       "      <td>736 14th St, New York City, NY 10001</td>\n",
       "    </tr>\n",
       "  </tbody>\n",
       "</table>\n",
       "</div>"
      ],
      "text/plain": [
       "  Order ID                     Product Quantity Ordered Price Each  \\\n",
       "0   236670            Wired Headphones                2      11.99   \n",
       "1   236671  Bose SoundSport Headphones                1      99.99   \n",
       "2   236672                      iPhone                1      700.0   \n",
       "3   236673       AA Batteries (4-pack)                2       3.84   \n",
       "4   236674       AA Batteries (4-pack)                2       3.84   \n",
       "\n",
       "       Order Date                      Purchase Address  \n",
       "0  08/31/19 22:21      359 Spruce St, Seattle, WA 98101  \n",
       "1  08/15/19 15:11        492 Ridge St, Dallas, TX 75001  \n",
       "2  08/06/19 14:40        149 7th St, Portland, OR 97035  \n",
       "3  08/29/19 20:59     631 2nd St, Los Angeles, CA 90001  \n",
       "4  08/15/19 19:53  736 14th St, New York City, NY 10001  "
      ]
     },
     "execution_count": 9,
     "metadata": {},
     "output_type": "execute_result"
    }
   ],
   "source": [
    "year_data = year_data.dropna(how = 'all')\n",
    "year_data.head()"
   ]
  },
  {
   "cell_type": "markdown",
   "id": "47a634b8",
   "metadata": {
    "papermill": {
     "duration": 0.037967,
     "end_time": "2021-09-13T13:28:02.029555",
     "exception": false,
     "start_time": "2021-09-13T13:28:01.991588",
     "status": "completed"
    },
    "tags": []
   },
   "source": [
    "Just for check we will run again the previous code (line 11) to check the fully filled NAN rows and the result will be none means no fully filled NAN rows\n",
    "\n",
    "\n",
    "in line 12 if we use \"any\" instead of \"all\" that will cause another error in data frame\n",
    "\n",
    "with using \"any\" it will remove any NAN value (also from partially filled rows with NAN) so it will make data having uneven columns length\n",
    "\n",
    "to avoid this we used \"all\" means only drop that rows that are having all values NAN\n",
    "\n"
   ]
  },
  {
   "cell_type": "code",
   "execution_count": 10,
   "id": "4d25e591",
   "metadata": {
    "execution": {
     "iopub.execute_input": "2021-09-13T13:28:02.235393Z",
     "iopub.status.busy": "2021-09-13T13:28:02.234712Z",
     "iopub.status.idle": "2021-09-13T13:28:02.245767Z",
     "shell.execute_reply": "2021-09-13T13:28:02.245158Z",
     "shell.execute_reply.started": "2021-09-13T12:40:03.366563Z"
    },
    "papermill": {
     "duration": 0.175828,
     "end_time": "2021-09-13T13:28:02.245929",
     "exception": false,
     "start_time": "2021-09-13T13:28:02.070101",
     "status": "completed"
    },
    "tags": []
   },
   "outputs": [
    {
     "data": {
      "text/html": [
       "<div>\n",
       "<style scoped>\n",
       "    .dataframe tbody tr th:only-of-type {\n",
       "        vertical-align: middle;\n",
       "    }\n",
       "\n",
       "    .dataframe tbody tr th {\n",
       "        vertical-align: top;\n",
       "    }\n",
       "\n",
       "    .dataframe thead th {\n",
       "        text-align: right;\n",
       "    }\n",
       "</style>\n",
       "<table border=\"1\" class=\"dataframe\">\n",
       "  <thead>\n",
       "    <tr style=\"text-align: right;\">\n",
       "      <th></th>\n",
       "      <th>Order ID</th>\n",
       "      <th>Product</th>\n",
       "      <th>Quantity Ordered</th>\n",
       "      <th>Price Each</th>\n",
       "      <th>Order Date</th>\n",
       "      <th>Purchase Address</th>\n",
       "    </tr>\n",
       "  </thead>\n",
       "  <tbody>\n",
       "  </tbody>\n",
       "</table>\n",
       "</div>"
      ],
      "text/plain": [
       "Empty DataFrame\n",
       "Columns: [Order ID, Product, Quantity Ordered, Price Each, Order Date, Purchase Address]\n",
       "Index: []"
      ]
     },
     "execution_count": 10,
     "metadata": {},
     "output_type": "execute_result"
    }
   ],
   "source": [
    "nan_rows = year_data[year_data.isna().any(axis =1)]\n",
    "nan_rows.head()"
   ]
  },
  {
   "cell_type": "markdown",
   "id": "af045d89",
   "metadata": {
    "papermill": {
     "duration": 0.039145,
     "end_time": "2021-09-13T13:28:02.326469",
     "exception": false,
     "start_time": "2021-09-13T13:28:02.287324",
     "status": "completed"
    },
    "tags": []
   },
   "source": [
    "Now find out \n",
    "\n",
    "**Q1 = A month with highest sales and  money earned**\n",
    "\n",
    "if you see data head (in  \"order date\" column) first two digits are for month\n",
    "\n",
    "we need a sepreate coulmn for month accordingly\n",
    "\n",
    "may be while doing this we need some data seperation, data cleaning, error removing etc\n",
    "\n",
    "standard syntex => year_data['new coulmn name'] = year_data['target column name for data collection'].str [0:2]\n",
    "\n",
    "\n",
    "year_data => data frame name\n",
    "\n",
    ".str => data type\n",
    "\n",
    "[0:2] => collection elemnt's index number\n",
    "\n"
   ]
  },
  {
   "cell_type": "code",
   "execution_count": 11,
   "id": "78d17529",
   "metadata": {
    "execution": {
     "iopub.execute_input": "2021-09-13T13:28:02.406921Z",
     "iopub.status.busy": "2021-09-13T13:28:02.406262Z",
     "iopub.status.idle": "2021-09-13T13:28:02.526243Z",
     "shell.execute_reply": "2021-09-13T13:28:02.525660Z",
     "shell.execute_reply.started": "2021-09-13T12:40:03.432837Z"
    },
    "papermill": {
     "duration": 0.160977,
     "end_time": "2021-09-13T13:28:02.526380",
     "exception": false,
     "start_time": "2021-09-13T13:28:02.365403",
     "status": "completed"
    },
    "tags": []
   },
   "outputs": [
    {
     "data": {
      "text/html": [
       "<div>\n",
       "<style scoped>\n",
       "    .dataframe tbody tr th:only-of-type {\n",
       "        vertical-align: middle;\n",
       "    }\n",
       "\n",
       "    .dataframe tbody tr th {\n",
       "        vertical-align: top;\n",
       "    }\n",
       "\n",
       "    .dataframe thead th {\n",
       "        text-align: right;\n",
       "    }\n",
       "</style>\n",
       "<table border=\"1\" class=\"dataframe\">\n",
       "  <thead>\n",
       "    <tr style=\"text-align: right;\">\n",
       "      <th></th>\n",
       "      <th>Order ID</th>\n",
       "      <th>Product</th>\n",
       "      <th>Quantity Ordered</th>\n",
       "      <th>Price Each</th>\n",
       "      <th>Order Date</th>\n",
       "      <th>Purchase Address</th>\n",
       "      <th>Month</th>\n",
       "    </tr>\n",
       "  </thead>\n",
       "  <tbody>\n",
       "    <tr>\n",
       "      <th>0</th>\n",
       "      <td>236670</td>\n",
       "      <td>Wired Headphones</td>\n",
       "      <td>2</td>\n",
       "      <td>11.99</td>\n",
       "      <td>08/31/19 22:21</td>\n",
       "      <td>359 Spruce St, Seattle, WA 98101</td>\n",
       "      <td>08</td>\n",
       "    </tr>\n",
       "    <tr>\n",
       "      <th>1</th>\n",
       "      <td>236671</td>\n",
       "      <td>Bose SoundSport Headphones</td>\n",
       "      <td>1</td>\n",
       "      <td>99.99</td>\n",
       "      <td>08/15/19 15:11</td>\n",
       "      <td>492 Ridge St, Dallas, TX 75001</td>\n",
       "      <td>08</td>\n",
       "    </tr>\n",
       "    <tr>\n",
       "      <th>2</th>\n",
       "      <td>236672</td>\n",
       "      <td>iPhone</td>\n",
       "      <td>1</td>\n",
       "      <td>700.0</td>\n",
       "      <td>08/06/19 14:40</td>\n",
       "      <td>149 7th St, Portland, OR 97035</td>\n",
       "      <td>08</td>\n",
       "    </tr>\n",
       "    <tr>\n",
       "      <th>3</th>\n",
       "      <td>236673</td>\n",
       "      <td>AA Batteries (4-pack)</td>\n",
       "      <td>2</td>\n",
       "      <td>3.84</td>\n",
       "      <td>08/29/19 20:59</td>\n",
       "      <td>631 2nd St, Los Angeles, CA 90001</td>\n",
       "      <td>08</td>\n",
       "    </tr>\n",
       "    <tr>\n",
       "      <th>4</th>\n",
       "      <td>236674</td>\n",
       "      <td>AA Batteries (4-pack)</td>\n",
       "      <td>2</td>\n",
       "      <td>3.84</td>\n",
       "      <td>08/15/19 19:53</td>\n",
       "      <td>736 14th St, New York City, NY 10001</td>\n",
       "      <td>08</td>\n",
       "    </tr>\n",
       "  </tbody>\n",
       "</table>\n",
       "</div>"
      ],
      "text/plain": [
       "  Order ID                     Product Quantity Ordered Price Each  \\\n",
       "0   236670            Wired Headphones                2      11.99   \n",
       "1   236671  Bose SoundSport Headphones                1      99.99   \n",
       "2   236672                      iPhone                1      700.0   \n",
       "3   236673       AA Batteries (4-pack)                2       3.84   \n",
       "4   236674       AA Batteries (4-pack)                2       3.84   \n",
       "\n",
       "       Order Date                      Purchase Address Month  \n",
       "0  08/31/19 22:21      359 Spruce St, Seattle, WA 98101    08  \n",
       "1  08/15/19 15:11        492 Ridge St, Dallas, TX 75001    08  \n",
       "2  08/06/19 14:40        149 7th St, Portland, OR 97035    08  \n",
       "3  08/29/19 20:59     631 2nd St, Los Angeles, CA 90001    08  \n",
       "4  08/15/19 19:53  736 14th St, New York City, NY 10001    08  "
      ]
     },
     "execution_count": 11,
     "metadata": {},
     "output_type": "execute_result"
    }
   ],
   "source": [
    "year_data['Month'] = year_data['Order Date'].str [0:2]\n",
    "year_data.head()"
   ]
  },
  {
   "cell_type": "markdown",
   "id": "6b8a843b",
   "metadata": {
    "papermill": {
     "duration": 0.038318,
     "end_time": "2021-09-13T13:28:02.603321",
     "exception": false,
     "start_time": "2021-09-13T13:28:02.565003",
     "status": "completed"
    },
    "tags": []
   },
   "source": [
    "change the type of data in New Month column, it will helpful for data visulizations\n",
    "\n",
    "at the moment it is with string values because we extract it from string values clolumn \"Order Date\"\n",
    "\n",
    "\n",
    "standard Syntex => year_data['Column Name'] = year_data['Target Column Name'].astype('int32')\n",
    "\n",
    ".astype => command for change type\n",
    "\n",
    "int32 => new type of values\n"
   ]
  },
  {
   "cell_type": "code",
   "execution_count": 12,
   "id": "d4bbaa67",
   "metadata": {
    "execution": {
     "iopub.execute_input": "2021-09-13T13:28:02.684744Z",
     "iopub.status.busy": "2021-09-13T13:28:02.684077Z",
     "iopub.status.idle": "2021-09-13T13:28:02.686752Z",
     "shell.execute_reply": "2021-09-13T13:28:02.687335Z",
     "shell.execute_reply.started": "2021-09-13T12:40:03.525034Z"
    },
    "papermill": {
     "duration": 0.045812,
     "end_time": "2021-09-13T13:28:02.687504",
     "exception": false,
     "start_time": "2021-09-13T13:28:02.641692",
     "status": "completed"
    },
    "tags": []
   },
   "outputs": [],
   "source": [
    "# year_data['Month'] = year_data['Month'].astype('int32')\n",
    "# year_data.head()"
   ]
  },
  {
   "cell_type": "markdown",
   "id": "70786447",
   "metadata": {
    "papermill": {
     "duration": 0.0379,
     "end_time": "2021-09-13T13:28:02.763979",
     "exception": false,
     "start_time": "2021-09-13T13:28:02.726079",
     "status": "completed"
    },
    "tags": []
   },
   "source": [
    "while running the above code in previous line it gave following error (you coan check run by removing # from start)\n",
    "\n",
    "\n",
    "**ValueError: invalid literal for int() with base 10: 'Or'**\n",
    "\n",
    "means that it has some cells with alphabets 'Or' so these cannot change into integers\n",
    "\n",
    "now we have to clean all those rows from data set\n",
    "\n",
    "**standard Sytex =** New data frame name = old data frame name [old data frame name['Target column'].str [0:2] != 'Or'\n",
    "\n",
    ".str => data type of target column\n",
    "\n",
    "'Or' => target value that need to be clean\n",
    "\n",
    "\"!=\" => this will not allow all the rows having 'Or' in new data frame\n",
    "\n",
    "**Note: **\n",
    "\n",
    "we can use the same data frame name as new data frame name so it will automatically update the old data set\n",
    "\n"
   ]
  },
  {
   "cell_type": "code",
   "execution_count": 13,
   "id": "83448216",
   "metadata": {
    "execution": {
     "iopub.execute_input": "2021-09-13T13:28:02.888019Z",
     "iopub.status.busy": "2021-09-13T13:28:02.867077Z",
     "iopub.status.idle": "2021-09-13T13:28:03.039687Z",
     "shell.execute_reply": "2021-09-13T13:28:03.039150Z",
     "shell.execute_reply.started": "2021-09-13T12:40:03.529618Z"
    },
    "papermill": {
     "duration": 0.23743,
     "end_time": "2021-09-13T13:28:03.039842",
     "exception": false,
     "start_time": "2021-09-13T13:28:02.802412",
     "status": "completed"
    },
    "tags": []
   },
   "outputs": [
    {
     "data": {
      "text/html": [
       "<div>\n",
       "<style scoped>\n",
       "    .dataframe tbody tr th:only-of-type {\n",
       "        vertical-align: middle;\n",
       "    }\n",
       "\n",
       "    .dataframe tbody tr th {\n",
       "        vertical-align: top;\n",
       "    }\n",
       "\n",
       "    .dataframe thead th {\n",
       "        text-align: right;\n",
       "    }\n",
       "</style>\n",
       "<table border=\"1\" class=\"dataframe\">\n",
       "  <thead>\n",
       "    <tr style=\"text-align: right;\">\n",
       "      <th></th>\n",
       "      <th>Order ID</th>\n",
       "      <th>Product</th>\n",
       "      <th>Quantity Ordered</th>\n",
       "      <th>Price Each</th>\n",
       "      <th>Order Date</th>\n",
       "      <th>Purchase Address</th>\n",
       "      <th>Month</th>\n",
       "    </tr>\n",
       "  </thead>\n",
       "  <tbody>\n",
       "    <tr>\n",
       "      <th>0</th>\n",
       "      <td>236670</td>\n",
       "      <td>Wired Headphones</td>\n",
       "      <td>2</td>\n",
       "      <td>11.99</td>\n",
       "      <td>08/31/19 22:21</td>\n",
       "      <td>359 Spruce St, Seattle, WA 98101</td>\n",
       "      <td>08</td>\n",
       "    </tr>\n",
       "    <tr>\n",
       "      <th>1</th>\n",
       "      <td>236671</td>\n",
       "      <td>Bose SoundSport Headphones</td>\n",
       "      <td>1</td>\n",
       "      <td>99.99</td>\n",
       "      <td>08/15/19 15:11</td>\n",
       "      <td>492 Ridge St, Dallas, TX 75001</td>\n",
       "      <td>08</td>\n",
       "    </tr>\n",
       "    <tr>\n",
       "      <th>2</th>\n",
       "      <td>236672</td>\n",
       "      <td>iPhone</td>\n",
       "      <td>1</td>\n",
       "      <td>700.0</td>\n",
       "      <td>08/06/19 14:40</td>\n",
       "      <td>149 7th St, Portland, OR 97035</td>\n",
       "      <td>08</td>\n",
       "    </tr>\n",
       "    <tr>\n",
       "      <th>3</th>\n",
       "      <td>236673</td>\n",
       "      <td>AA Batteries (4-pack)</td>\n",
       "      <td>2</td>\n",
       "      <td>3.84</td>\n",
       "      <td>08/29/19 20:59</td>\n",
       "      <td>631 2nd St, Los Angeles, CA 90001</td>\n",
       "      <td>08</td>\n",
       "    </tr>\n",
       "    <tr>\n",
       "      <th>4</th>\n",
       "      <td>236674</td>\n",
       "      <td>AA Batteries (4-pack)</td>\n",
       "      <td>2</td>\n",
       "      <td>3.84</td>\n",
       "      <td>08/15/19 19:53</td>\n",
       "      <td>736 14th St, New York City, NY 10001</td>\n",
       "      <td>08</td>\n",
       "    </tr>\n",
       "  </tbody>\n",
       "</table>\n",
       "</div>"
      ],
      "text/plain": [
       "  Order ID                     Product Quantity Ordered Price Each  \\\n",
       "0   236670            Wired Headphones                2      11.99   \n",
       "1   236671  Bose SoundSport Headphones                1      99.99   \n",
       "2   236672                      iPhone                1      700.0   \n",
       "3   236673       AA Batteries (4-pack)                2       3.84   \n",
       "4   236674       AA Batteries (4-pack)                2       3.84   \n",
       "\n",
       "       Order Date                      Purchase Address Month  \n",
       "0  08/31/19 22:21      359 Spruce St, Seattle, WA 98101    08  \n",
       "1  08/15/19 15:11        492 Ridge St, Dallas, TX 75001    08  \n",
       "2  08/06/19 14:40        149 7th St, Portland, OR 97035    08  \n",
       "3  08/29/19 20:59     631 2nd St, Los Angeles, CA 90001    08  \n",
       "4  08/15/19 19:53  736 14th St, New York City, NY 10001    08  "
      ]
     },
     "execution_count": 13,
     "metadata": {},
     "output_type": "execute_result"
    }
   ],
   "source": [
    "year_data = year_data[year_data['Order Date'].str [0:2] != 'Or']\n",
    "year_data.head()"
   ]
  },
  {
   "cell_type": "code",
   "execution_count": 14,
   "id": "2dcba075",
   "metadata": {
    "execution": {
     "iopub.execute_input": "2021-09-13T13:28:03.273867Z",
     "iopub.status.busy": "2021-09-13T13:28:03.273179Z",
     "iopub.status.idle": "2021-09-13T13:28:03.421245Z",
     "shell.execute_reply": "2021-09-13T13:28:03.421733Z",
     "shell.execute_reply.started": "2021-09-13T12:40:03.706892Z"
    },
    "papermill": {
     "duration": 0.342715,
     "end_time": "2021-09-13T13:28:03.421929",
     "exception": false,
     "start_time": "2021-09-13T13:28:03.079214",
     "status": "completed"
    },
    "tags": []
   },
   "outputs": [],
   "source": [
    "# this is extra work to change the data type of the cloumn values to numeric (int , float) to avoide some bad entry errors\n",
    "# try to run without doing this and you will see the error\n",
    "year_data['Quantity Ordered'] = pd.to_numeric(year_data['Quantity Ordered']) # make int\n",
    "year_data['Price Each'] = pd.to_numeric(year_data['Price Each']) # make float"
   ]
  },
  {
   "cell_type": "markdown",
   "id": "18bbb343",
   "metadata": {
    "papermill": {
     "duration": 0.039326,
     "end_time": "2021-09-13T13:28:03.500170",
     "exception": false,
     "start_time": "2021-09-13T13:28:03.460844",
     "status": "completed"
    },
    "tags": []
   },
   "source": [
    "Now run the code again to change the data value type in Month coulmn"
   ]
  },
  {
   "cell_type": "code",
   "execution_count": 15,
   "id": "797e3b13",
   "metadata": {
    "execution": {
     "iopub.execute_input": "2021-09-13T13:28:03.608545Z",
     "iopub.status.busy": "2021-09-13T13:28:03.607878Z",
     "iopub.status.idle": "2021-09-13T13:28:03.631142Z",
     "shell.execute_reply": "2021-09-13T13:28:03.631909Z",
     "shell.execute_reply.started": "2021-09-13T12:40:03.899207Z"
    },
    "papermill": {
     "duration": 0.092974,
     "end_time": "2021-09-13T13:28:03.632100",
     "exception": false,
     "start_time": "2021-09-13T13:28:03.539126",
     "status": "completed"
    },
    "tags": []
   },
   "outputs": [
    {
     "data": {
      "text/html": [
       "<div>\n",
       "<style scoped>\n",
       "    .dataframe tbody tr th:only-of-type {\n",
       "        vertical-align: middle;\n",
       "    }\n",
       "\n",
       "    .dataframe tbody tr th {\n",
       "        vertical-align: top;\n",
       "    }\n",
       "\n",
       "    .dataframe thead th {\n",
       "        text-align: right;\n",
       "    }\n",
       "</style>\n",
       "<table border=\"1\" class=\"dataframe\">\n",
       "  <thead>\n",
       "    <tr style=\"text-align: right;\">\n",
       "      <th></th>\n",
       "      <th>Order ID</th>\n",
       "      <th>Product</th>\n",
       "      <th>Quantity Ordered</th>\n",
       "      <th>Price Each</th>\n",
       "      <th>Order Date</th>\n",
       "      <th>Purchase Address</th>\n",
       "      <th>Month</th>\n",
       "    </tr>\n",
       "  </thead>\n",
       "  <tbody>\n",
       "    <tr>\n",
       "      <th>0</th>\n",
       "      <td>236670</td>\n",
       "      <td>Wired Headphones</td>\n",
       "      <td>2</td>\n",
       "      <td>11.99</td>\n",
       "      <td>08/31/19 22:21</td>\n",
       "      <td>359 Spruce St, Seattle, WA 98101</td>\n",
       "      <td>8</td>\n",
       "    </tr>\n",
       "    <tr>\n",
       "      <th>1</th>\n",
       "      <td>236671</td>\n",
       "      <td>Bose SoundSport Headphones</td>\n",
       "      <td>1</td>\n",
       "      <td>99.99</td>\n",
       "      <td>08/15/19 15:11</td>\n",
       "      <td>492 Ridge St, Dallas, TX 75001</td>\n",
       "      <td>8</td>\n",
       "    </tr>\n",
       "    <tr>\n",
       "      <th>2</th>\n",
       "      <td>236672</td>\n",
       "      <td>iPhone</td>\n",
       "      <td>1</td>\n",
       "      <td>700.00</td>\n",
       "      <td>08/06/19 14:40</td>\n",
       "      <td>149 7th St, Portland, OR 97035</td>\n",
       "      <td>8</td>\n",
       "    </tr>\n",
       "    <tr>\n",
       "      <th>3</th>\n",
       "      <td>236673</td>\n",
       "      <td>AA Batteries (4-pack)</td>\n",
       "      <td>2</td>\n",
       "      <td>3.84</td>\n",
       "      <td>08/29/19 20:59</td>\n",
       "      <td>631 2nd St, Los Angeles, CA 90001</td>\n",
       "      <td>8</td>\n",
       "    </tr>\n",
       "    <tr>\n",
       "      <th>4</th>\n",
       "      <td>236674</td>\n",
       "      <td>AA Batteries (4-pack)</td>\n",
       "      <td>2</td>\n",
       "      <td>3.84</td>\n",
       "      <td>08/15/19 19:53</td>\n",
       "      <td>736 14th St, New York City, NY 10001</td>\n",
       "      <td>8</td>\n",
       "    </tr>\n",
       "  </tbody>\n",
       "</table>\n",
       "</div>"
      ],
      "text/plain": [
       "  Order ID                     Product  Quantity Ordered  Price Each  \\\n",
       "0   236670            Wired Headphones                 2       11.99   \n",
       "1   236671  Bose SoundSport Headphones                 1       99.99   \n",
       "2   236672                      iPhone                 1      700.00   \n",
       "3   236673       AA Batteries (4-pack)                 2        3.84   \n",
       "4   236674       AA Batteries (4-pack)                 2        3.84   \n",
       "\n",
       "       Order Date                      Purchase Address  Month  \n",
       "0  08/31/19 22:21      359 Spruce St, Seattle, WA 98101      8  \n",
       "1  08/15/19 15:11        492 Ridge St, Dallas, TX 75001      8  \n",
       "2  08/06/19 14:40        149 7th St, Portland, OR 97035      8  \n",
       "3  08/29/19 20:59     631 2nd St, Los Angeles, CA 90001      8  \n",
       "4  08/15/19 19:53  736 14th St, New York City, NY 10001      8  "
      ]
     },
     "execution_count": 15,
     "metadata": {},
     "output_type": "execute_result"
    }
   ],
   "source": [
    "year_data['Month'] = year_data['Month'].astype('int32')\n",
    "year_data.head()"
   ]
  },
  {
   "cell_type": "markdown",
   "id": "4961aedf",
   "metadata": {
    "papermill": {
     "duration": 0.039942,
     "end_time": "2021-09-13T13:28:03.712251",
     "exception": false,
     "start_time": "2021-09-13T13:28:03.672309",
     "status": "completed"
    },
    "tags": []
   },
   "source": [
    "to answer Q1 we also need sales value for each order and for this \n",
    "\n",
    "\n",
    "we have to multiply \"Quantity Ordered\" to \" Price Each \" and add it in a new column \"sales\" in data set"
   ]
  },
  {
   "cell_type": "code",
   "execution_count": 16,
   "id": "064b90be",
   "metadata": {
    "execution": {
     "iopub.execute_input": "2021-09-13T13:28:03.794119Z",
     "iopub.status.busy": "2021-09-13T13:28:03.793478Z",
     "iopub.status.idle": "2021-09-13T13:28:03.813443Z",
     "shell.execute_reply": "2021-09-13T13:28:03.812942Z",
     "shell.execute_reply.started": "2021-09-13T12:40:03.941826Z"
    },
    "papermill": {
     "duration": 0.061912,
     "end_time": "2021-09-13T13:28:03.813582",
     "exception": false,
     "start_time": "2021-09-13T13:28:03.751670",
     "status": "completed"
    },
    "tags": []
   },
   "outputs": [
    {
     "data": {
      "text/html": [
       "<div>\n",
       "<style scoped>\n",
       "    .dataframe tbody tr th:only-of-type {\n",
       "        vertical-align: middle;\n",
       "    }\n",
       "\n",
       "    .dataframe tbody tr th {\n",
       "        vertical-align: top;\n",
       "    }\n",
       "\n",
       "    .dataframe thead th {\n",
       "        text-align: right;\n",
       "    }\n",
       "</style>\n",
       "<table border=\"1\" class=\"dataframe\">\n",
       "  <thead>\n",
       "    <tr style=\"text-align: right;\">\n",
       "      <th></th>\n",
       "      <th>Order ID</th>\n",
       "      <th>Product</th>\n",
       "      <th>Quantity Ordered</th>\n",
       "      <th>Price Each</th>\n",
       "      <th>Order Date</th>\n",
       "      <th>Purchase Address</th>\n",
       "      <th>Month</th>\n",
       "      <th>sales</th>\n",
       "    </tr>\n",
       "  </thead>\n",
       "  <tbody>\n",
       "    <tr>\n",
       "      <th>0</th>\n",
       "      <td>236670</td>\n",
       "      <td>Wired Headphones</td>\n",
       "      <td>2</td>\n",
       "      <td>11.99</td>\n",
       "      <td>08/31/19 22:21</td>\n",
       "      <td>359 Spruce St, Seattle, WA 98101</td>\n",
       "      <td>8</td>\n",
       "      <td>23.98</td>\n",
       "    </tr>\n",
       "    <tr>\n",
       "      <th>1</th>\n",
       "      <td>236671</td>\n",
       "      <td>Bose SoundSport Headphones</td>\n",
       "      <td>1</td>\n",
       "      <td>99.99</td>\n",
       "      <td>08/15/19 15:11</td>\n",
       "      <td>492 Ridge St, Dallas, TX 75001</td>\n",
       "      <td>8</td>\n",
       "      <td>99.99</td>\n",
       "    </tr>\n",
       "    <tr>\n",
       "      <th>2</th>\n",
       "      <td>236672</td>\n",
       "      <td>iPhone</td>\n",
       "      <td>1</td>\n",
       "      <td>700.00</td>\n",
       "      <td>08/06/19 14:40</td>\n",
       "      <td>149 7th St, Portland, OR 97035</td>\n",
       "      <td>8</td>\n",
       "      <td>700.00</td>\n",
       "    </tr>\n",
       "    <tr>\n",
       "      <th>3</th>\n",
       "      <td>236673</td>\n",
       "      <td>AA Batteries (4-pack)</td>\n",
       "      <td>2</td>\n",
       "      <td>3.84</td>\n",
       "      <td>08/29/19 20:59</td>\n",
       "      <td>631 2nd St, Los Angeles, CA 90001</td>\n",
       "      <td>8</td>\n",
       "      <td>7.68</td>\n",
       "    </tr>\n",
       "    <tr>\n",
       "      <th>4</th>\n",
       "      <td>236674</td>\n",
       "      <td>AA Batteries (4-pack)</td>\n",
       "      <td>2</td>\n",
       "      <td>3.84</td>\n",
       "      <td>08/15/19 19:53</td>\n",
       "      <td>736 14th St, New York City, NY 10001</td>\n",
       "      <td>8</td>\n",
       "      <td>7.68</td>\n",
       "    </tr>\n",
       "  </tbody>\n",
       "</table>\n",
       "</div>"
      ],
      "text/plain": [
       "  Order ID                     Product  Quantity Ordered  Price Each  \\\n",
       "0   236670            Wired Headphones                 2       11.99   \n",
       "1   236671  Bose SoundSport Headphones                 1       99.99   \n",
       "2   236672                      iPhone                 1      700.00   \n",
       "3   236673       AA Batteries (4-pack)                 2        3.84   \n",
       "4   236674       AA Batteries (4-pack)                 2        3.84   \n",
       "\n",
       "       Order Date                      Purchase Address  Month   sales  \n",
       "0  08/31/19 22:21      359 Spruce St, Seattle, WA 98101      8   23.98  \n",
       "1  08/15/19 15:11        492 Ridge St, Dallas, TX 75001      8   99.99  \n",
       "2  08/06/19 14:40        149 7th St, Portland, OR 97035      8  700.00  \n",
       "3  08/29/19 20:59     631 2nd St, Los Angeles, CA 90001      8    7.68  \n",
       "4  08/15/19 19:53  736 14th St, New York City, NY 10001      8    7.68  "
      ]
     },
     "execution_count": 16,
     "metadata": {},
     "output_type": "execute_result"
    }
   ],
   "source": [
    "year_data['Quantity Ordered'] = pd.to_numeric(year_data['Quantity Ordered']) # make int\n",
    "year_data['Price Each'] = pd.to_numeric(year_data['Price Each']) # make float\n",
    "# this is extra work to change the data type of the cloumn values to numeric (int , float) to avoide some bad entry errors\n",
    "# try to run without doing this and you will see the error\n",
    "# Now code to make the sales column\n",
    "\n",
    "year_data['sales'] = year_data['Quantity Ordered'] * year_data['Price Each'] \n",
    "year_data.head()"
   ]
  },
  {
   "cell_type": "code",
   "execution_count": 17,
   "id": "9e950cb0",
   "metadata": {
    "execution": {
     "iopub.execute_input": "2021-09-13T13:28:03.901313Z",
     "iopub.status.busy": "2021-09-13T13:28:03.900638Z",
     "iopub.status.idle": "2021-09-13T13:28:03.940434Z",
     "shell.execute_reply": "2021-09-13T13:28:03.939906Z",
     "shell.execute_reply.started": "2021-09-13T12:40:03.964980Z"
    },
    "papermill": {
     "duration": 0.085388,
     "end_time": "2021-09-13T13:28:03.940565",
     "exception": false,
     "start_time": "2021-09-13T13:28:03.855177",
     "status": "completed"
    },
    "tags": []
   },
   "outputs": [
    {
     "data": {
      "text/html": [
       "<div>\n",
       "<style scoped>\n",
       "    .dataframe tbody tr th:only-of-type {\n",
       "        vertical-align: middle;\n",
       "    }\n",
       "\n",
       "    .dataframe tbody tr th {\n",
       "        vertical-align: top;\n",
       "    }\n",
       "\n",
       "    .dataframe thead th {\n",
       "        text-align: right;\n",
       "    }\n",
       "</style>\n",
       "<table border=\"1\" class=\"dataframe\">\n",
       "  <thead>\n",
       "    <tr style=\"text-align: right;\">\n",
       "      <th></th>\n",
       "      <th>Quantity Ordered</th>\n",
       "      <th>Price Each</th>\n",
       "      <th>sales</th>\n",
       "    </tr>\n",
       "    <tr>\n",
       "      <th>Month</th>\n",
       "      <th></th>\n",
       "      <th></th>\n",
       "      <th></th>\n",
       "    </tr>\n",
       "  </thead>\n",
       "  <tbody>\n",
       "    <tr>\n",
       "      <th>1</th>\n",
       "      <td>10903</td>\n",
       "      <td>1811768.38</td>\n",
       "      <td>1822256.73</td>\n",
       "    </tr>\n",
       "    <tr>\n",
       "      <th>2</th>\n",
       "      <td>13449</td>\n",
       "      <td>2188884.72</td>\n",
       "      <td>2202022.42</td>\n",
       "    </tr>\n",
       "    <tr>\n",
       "      <th>3</th>\n",
       "      <td>17005</td>\n",
       "      <td>2791207.83</td>\n",
       "      <td>2807100.38</td>\n",
       "    </tr>\n",
       "    <tr>\n",
       "      <th>4</th>\n",
       "      <td>20558</td>\n",
       "      <td>3367671.02</td>\n",
       "      <td>3390670.24</td>\n",
       "    </tr>\n",
       "    <tr>\n",
       "      <th>5</th>\n",
       "      <td>18667</td>\n",
       "      <td>3135125.13</td>\n",
       "      <td>3152606.75</td>\n",
       "    </tr>\n",
       "    <tr>\n",
       "      <th>6</th>\n",
       "      <td>15253</td>\n",
       "      <td>2562025.61</td>\n",
       "      <td>2577802.26</td>\n",
       "    </tr>\n",
       "    <tr>\n",
       "      <th>7</th>\n",
       "      <td>16072</td>\n",
       "      <td>2632539.56</td>\n",
       "      <td>2647775.76</td>\n",
       "    </tr>\n",
       "    <tr>\n",
       "      <th>8</th>\n",
       "      <td>13448</td>\n",
       "      <td>2230345.42</td>\n",
       "      <td>2244467.88</td>\n",
       "    </tr>\n",
       "    <tr>\n",
       "      <th>9</th>\n",
       "      <td>13109</td>\n",
       "      <td>2084992.09</td>\n",
       "      <td>2097560.13</td>\n",
       "    </tr>\n",
       "    <tr>\n",
       "      <th>10</th>\n",
       "      <td>22703</td>\n",
       "      <td>3715554.83</td>\n",
       "      <td>3736726.88</td>\n",
       "    </tr>\n",
       "    <tr>\n",
       "      <th>11</th>\n",
       "      <td>19798</td>\n",
       "      <td>3180600.68</td>\n",
       "      <td>3199603.20</td>\n",
       "    </tr>\n",
       "    <tr>\n",
       "      <th>12</th>\n",
       "      <td>28114</td>\n",
       "      <td>4588415.41</td>\n",
       "      <td>4613443.34</td>\n",
       "    </tr>\n",
       "  </tbody>\n",
       "</table>\n",
       "</div>"
      ],
      "text/plain": [
       "       Quantity Ordered  Price Each       sales\n",
       "Month                                          \n",
       "1                 10903  1811768.38  1822256.73\n",
       "2                 13449  2188884.72  2202022.42\n",
       "3                 17005  2791207.83  2807100.38\n",
       "4                 20558  3367671.02  3390670.24\n",
       "5                 18667  3135125.13  3152606.75\n",
       "6                 15253  2562025.61  2577802.26\n",
       "7                 16072  2632539.56  2647775.76\n",
       "8                 13448  2230345.42  2244467.88\n",
       "9                 13109  2084992.09  2097560.13\n",
       "10                22703  3715554.83  3736726.88\n",
       "11                19798  3180600.68  3199603.20\n",
       "12                28114  4588415.41  4613443.34"
      ]
     },
     "execution_count": 17,
     "metadata": {},
     "output_type": "execute_result"
    }
   ],
   "source": [
    "# Now We can answer the Q1\n",
    " \n",
    "Results = year_data.groupby('Month').sum()\n",
    "\n",
    "Results"
   ]
  },
  {
   "cell_type": "code",
   "execution_count": 18,
   "id": "7324ecd3",
   "metadata": {
    "execution": {
     "iopub.execute_input": "2021-09-13T13:28:04.044681Z",
     "iopub.status.busy": "2021-09-13T13:28:04.044000Z",
     "iopub.status.idle": "2021-09-13T13:28:04.244214Z",
     "shell.execute_reply": "2021-09-13T13:28:04.243667Z",
     "shell.execute_reply.started": "2021-09-13T12:40:04.007329Z"
    },
    "papermill": {
     "duration": 0.262698,
     "end_time": "2021-09-13T13:28:04.244348",
     "exception": false,
     "start_time": "2021-09-13T13:28:03.981650",
     "status": "completed"
    },
    "tags": []
   },
   "outputs": [
    {
     "data": {
      "image/png": "[encoded data removed]",
      "text/plain": [
       "<Figure size 432x288 with 1 Axes>"
      ]
     },
     "metadata": {
      "needs_background": "light"
     },
     "output_type": "display_data"
    }
   ],
   "source": [
    "# plot the data in bar chart form\n",
    "import matplotlib.pyplot as plt # importing graph making library\n",
    "months = range(1,13)\n",
    "\n",
    "plt.bar (months, Results['sales'])\n",
    "plt.xticks(months) # to show number of each month for each bar in x axis\n",
    "plt.ylabel(\"Sales in USD ($)\")\n",
    "plt.xlabel (\"Month Number\")\n",
    "plt.show()"
   ]
  },
  {
   "cell_type": "markdown",
   "id": "ff376fbb",
   "metadata": {
    "papermill": {
     "duration": 0.041122,
     "end_time": "2021-09-13T13:28:04.326851",
     "exception": false,
     "start_time": "2021-09-13T13:28:04.285729",
     "status": "completed"
    },
    "tags": []
   },
   "source": [
    "# Q2: Which city had highest number of sales?"
   ]
  },
  {
   "cell_type": "markdown",
   "id": "3c43a695",
   "metadata": {
    "papermill": {
     "duration": 0.041191,
     "end_time": "2021-09-13T13:28:04.409268",
     "exception": false,
     "start_time": "2021-09-13T13:28:04.368077",
     "status": "completed"
    },
    "tags": []
   },
   "source": [
    " **Add another data column for city**\n",
    " \n",
    " see the Purchase Address column and you will se the city name within commas\n",
    "\n",
    " we will use **\".apply \"** method to split this city name from Purchase Address column and make City column\n",
    "\n",
    " **Standard Syantex **= **df[\"New Column Name\"] = df['Target Column'].apply (lambda x: x.split(',')[index])**\n",
    " \n",
    " df => given data frame name in our case => year_data\n",
    "    \n",
    "lamda x =>  the command for value detection and temporarily store, technically saying it will detect the cell content\n",
    "\n",
    "x.split => is the given operation name for value  temporarily store means split\n",
    "\n",
    "(',') => is the condition for split \n",
    "\n",
    "index => position or index or word of value you wnat to split and write in new column"
   ]
  },
  {
   "cell_type": "code",
   "execution_count": 19,
   "id": "4540b295",
   "metadata": {
    "execution": {
     "iopub.execute_input": "2021-09-13T13:28:04.496785Z",
     "iopub.status.busy": "2021-09-13T13:28:04.495653Z",
     "iopub.status.idle": "2021-09-13T13:28:04.615251Z",
     "shell.execute_reply": "2021-09-13T13:28:04.615728Z",
     "shell.execute_reply.started": "2021-09-13T12:40:04.219162Z"
    },
    "papermill": {
     "duration": 0.165061,
     "end_time": "2021-09-13T13:28:04.615915",
     "exception": false,
     "start_time": "2021-09-13T13:28:04.450854",
     "status": "completed"
    },
    "tags": []
   },
   "outputs": [
    {
     "data": {
      "text/html": [
       "<div>\n",
       "<style scoped>\n",
       "    .dataframe tbody tr th:only-of-type {\n",
       "        vertical-align: middle;\n",
       "    }\n",
       "\n",
       "    .dataframe tbody tr th {\n",
       "        vertical-align: top;\n",
       "    }\n",
       "\n",
       "    .dataframe thead th {\n",
       "        text-align: right;\n",
       "    }\n",
       "</style>\n",
       "<table border=\"1\" class=\"dataframe\">\n",
       "  <thead>\n",
       "    <tr style=\"text-align: right;\">\n",
       "      <th></th>\n",
       "      <th>Order ID</th>\n",
       "      <th>Product</th>\n",
       "      <th>Quantity Ordered</th>\n",
       "      <th>Price Each</th>\n",
       "      <th>Order Date</th>\n",
       "      <th>Purchase Address</th>\n",
       "      <th>Month</th>\n",
       "      <th>sales</th>\n",
       "      <th>City</th>\n",
       "    </tr>\n",
       "  </thead>\n",
       "  <tbody>\n",
       "    <tr>\n",
       "      <th>0</th>\n",
       "      <td>236670</td>\n",
       "      <td>Wired Headphones</td>\n",
       "      <td>2</td>\n",
       "      <td>11.99</td>\n",
       "      <td>08/31/19 22:21</td>\n",
       "      <td>359 Spruce St, Seattle, WA 98101</td>\n",
       "      <td>8</td>\n",
       "      <td>23.98</td>\n",
       "      <td>Seattle</td>\n",
       "    </tr>\n",
       "    <tr>\n",
       "      <th>1</th>\n",
       "      <td>236671</td>\n",
       "      <td>Bose SoundSport Headphones</td>\n",
       "      <td>1</td>\n",
       "      <td>99.99</td>\n",
       "      <td>08/15/19 15:11</td>\n",
       "      <td>492 Ridge St, Dallas, TX 75001</td>\n",
       "      <td>8</td>\n",
       "      <td>99.99</td>\n",
       "      <td>Dallas</td>\n",
       "    </tr>\n",
       "    <tr>\n",
       "      <th>2</th>\n",
       "      <td>236672</td>\n",
       "      <td>iPhone</td>\n",
       "      <td>1</td>\n",
       "      <td>700.00</td>\n",
       "      <td>08/06/19 14:40</td>\n",
       "      <td>149 7th St, Portland, OR 97035</td>\n",
       "      <td>8</td>\n",
       "      <td>700.00</td>\n",
       "      <td>Portland</td>\n",
       "    </tr>\n",
       "    <tr>\n",
       "      <th>3</th>\n",
       "      <td>236673</td>\n",
       "      <td>AA Batteries (4-pack)</td>\n",
       "      <td>2</td>\n",
       "      <td>3.84</td>\n",
       "      <td>08/29/19 20:59</td>\n",
       "      <td>631 2nd St, Los Angeles, CA 90001</td>\n",
       "      <td>8</td>\n",
       "      <td>7.68</td>\n",
       "      <td>Los Angeles</td>\n",
       "    </tr>\n",
       "    <tr>\n",
       "      <th>4</th>\n",
       "      <td>236674</td>\n",
       "      <td>AA Batteries (4-pack)</td>\n",
       "      <td>2</td>\n",
       "      <td>3.84</td>\n",
       "      <td>08/15/19 19:53</td>\n",
       "      <td>736 14th St, New York City, NY 10001</td>\n",
       "      <td>8</td>\n",
       "      <td>7.68</td>\n",
       "      <td>New York City</td>\n",
       "    </tr>\n",
       "  </tbody>\n",
       "</table>\n",
       "</div>"
      ],
      "text/plain": [
       "  Order ID                     Product  Quantity Ordered  Price Each  \\\n",
       "0   236670            Wired Headphones                 2       11.99   \n",
       "1   236671  Bose SoundSport Headphones                 1       99.99   \n",
       "2   236672                      iPhone                 1      700.00   \n",
       "3   236673       AA Batteries (4-pack)                 2        3.84   \n",
       "4   236674       AA Batteries (4-pack)                 2        3.84   \n",
       "\n",
       "       Order Date                      Purchase Address  Month   sales  \\\n",
       "0  08/31/19 22:21      359 Spruce St, Seattle, WA 98101      8   23.98   \n",
       "1  08/15/19 15:11        492 Ridge St, Dallas, TX 75001      8   99.99   \n",
       "2  08/06/19 14:40        149 7th St, Portland, OR 97035      8  700.00   \n",
       "3  08/29/19 20:59     631 2nd St, Los Angeles, CA 90001      8    7.68   \n",
       "4  08/15/19 19:53  736 14th St, New York City, NY 10001      8    7.68   \n",
       "\n",
       "             City  \n",
       "0         Seattle  \n",
       "1          Dallas  \n",
       "2        Portland  \n",
       "3     Los Angeles  \n",
       "4   New York City  "
      ]
     },
     "execution_count": 19,
     "metadata": {},
     "output_type": "execute_result"
    }
   ],
   "source": [
    "year_data['City'] = year_data['Purchase Address'].apply(lambda x: x.split(',')[1])\n",
    "year_data.head()"
   ]
  },
  {
   "cell_type": "code",
   "execution_count": 20,
   "id": "cb0b1fc6",
   "metadata": {
    "execution": {
     "iopub.execute_input": "2021-09-13T13:28:04.705255Z",
     "iopub.status.busy": "2021-09-13T13:28:04.704252Z",
     "iopub.status.idle": "2021-09-13T13:28:05.013344Z",
     "shell.execute_reply": "2021-09-13T13:28:05.012785Z",
     "shell.execute_reply.started": "2021-09-13T12:40:04.328397Z"
    },
    "papermill": {
     "duration": 0.355445,
     "end_time": "2021-09-13T13:28:05.013486",
     "exception": false,
     "start_time": "2021-09-13T13:28:04.658041",
     "status": "completed"
    },
    "tags": []
   },
   "outputs": [
    {
     "data": {
      "text/html": [
       "<div>\n",
       "<style scoped>\n",
       "    .dataframe tbody tr th:only-of-type {\n",
       "        vertical-align: middle;\n",
       "    }\n",
       "\n",
       "    .dataframe tbody tr th {\n",
       "        vertical-align: top;\n",
       "    }\n",
       "\n",
       "    .dataframe thead th {\n",
       "        text-align: right;\n",
       "    }\n",
       "</style>\n",
       "<table border=\"1\" class=\"dataframe\">\n",
       "  <thead>\n",
       "    <tr style=\"text-align: right;\">\n",
       "      <th></th>\n",
       "      <th>Order ID</th>\n",
       "      <th>Product</th>\n",
       "      <th>Quantity Ordered</th>\n",
       "      <th>Price Each</th>\n",
       "      <th>Order Date</th>\n",
       "      <th>Purchase Address</th>\n",
       "      <th>Month</th>\n",
       "      <th>sales</th>\n",
       "      <th>City</th>\n",
       "    </tr>\n",
       "  </thead>\n",
       "  <tbody>\n",
       "    <tr>\n",
       "      <th>0</th>\n",
       "      <td>236670</td>\n",
       "      <td>Wired Headphones</td>\n",
       "      <td>2</td>\n",
       "      <td>11.99</td>\n",
       "      <td>08/31/19 22:21</td>\n",
       "      <td>359 Spruce St, Seattle, WA 98101</td>\n",
       "      <td>8</td>\n",
       "      <td>23.98</td>\n",
       "      <td>Seattle WA</td>\n",
       "    </tr>\n",
       "    <tr>\n",
       "      <th>1</th>\n",
       "      <td>236671</td>\n",
       "      <td>Bose SoundSport Headphones</td>\n",
       "      <td>1</td>\n",
       "      <td>99.99</td>\n",
       "      <td>08/15/19 15:11</td>\n",
       "      <td>492 Ridge St, Dallas, TX 75001</td>\n",
       "      <td>8</td>\n",
       "      <td>99.99</td>\n",
       "      <td>Dallas TX</td>\n",
       "    </tr>\n",
       "    <tr>\n",
       "      <th>2</th>\n",
       "      <td>236672</td>\n",
       "      <td>iPhone</td>\n",
       "      <td>1</td>\n",
       "      <td>700.00</td>\n",
       "      <td>08/06/19 14:40</td>\n",
       "      <td>149 7th St, Portland, OR 97035</td>\n",
       "      <td>8</td>\n",
       "      <td>700.00</td>\n",
       "      <td>Portland OR</td>\n",
       "    </tr>\n",
       "    <tr>\n",
       "      <th>3</th>\n",
       "      <td>236673</td>\n",
       "      <td>AA Batteries (4-pack)</td>\n",
       "      <td>2</td>\n",
       "      <td>3.84</td>\n",
       "      <td>08/29/19 20:59</td>\n",
       "      <td>631 2nd St, Los Angeles, CA 90001</td>\n",
       "      <td>8</td>\n",
       "      <td>7.68</td>\n",
       "      <td>Los Angeles CA</td>\n",
       "    </tr>\n",
       "    <tr>\n",
       "      <th>4</th>\n",
       "      <td>236674</td>\n",
       "      <td>AA Batteries (4-pack)</td>\n",
       "      <td>2</td>\n",
       "      <td>3.84</td>\n",
       "      <td>08/15/19 19:53</td>\n",
       "      <td>736 14th St, New York City, NY 10001</td>\n",
       "      <td>8</td>\n",
       "      <td>7.68</td>\n",
       "      <td>New York City NY</td>\n",
       "    </tr>\n",
       "  </tbody>\n",
       "</table>\n",
       "</div>"
      ],
      "text/plain": [
       "  Order ID                     Product  Quantity Ordered  Price Each  \\\n",
       "0   236670            Wired Headphones                 2       11.99   \n",
       "1   236671  Bose SoundSport Headphones                 1       99.99   \n",
       "2   236672                      iPhone                 1      700.00   \n",
       "3   236673       AA Batteries (4-pack)                 2        3.84   \n",
       "4   236674       AA Batteries (4-pack)                 2        3.84   \n",
       "\n",
       "       Order Date                      Purchase Address  Month   sales  \\\n",
       "0  08/31/19 22:21      359 Spruce St, Seattle, WA 98101      8   23.98   \n",
       "1  08/15/19 15:11        492 Ridge St, Dallas, TX 75001      8   99.99   \n",
       "2  08/06/19 14:40        149 7th St, Portland, OR 97035      8  700.00   \n",
       "3  08/29/19 20:59     631 2nd St, Los Angeles, CA 90001      8    7.68   \n",
       "4  08/15/19 19:53  736 14th St, New York City, NY 10001      8    7.68   \n",
       "\n",
       "                City  \n",
       "0         Seattle WA  \n",
       "1          Dallas TX  \n",
       "2        Portland OR  \n",
       "3     Los Angeles CA  \n",
       "4   New York City NY  "
      ]
     },
     "execution_count": 20,
     "metadata": {},
     "output_type": "execute_result"
    }
   ],
   "source": [
    "# another method to get the same results but with more generic approach\n",
    "\n",
    "def get_city(address):\n",
    "    return address.split(',')[1]\n",
    "def get_state(address):   # because only city name is not sufficent so we also need state name to avoide any error if there is any same city name in differet state/country\n",
    "    return address.split(',')[2].split(' ')[1]    # first split will get the 2nd index (state name + post code), 2nd split will get only state name and will drop the post code\n",
    "\n",
    "year_data['City'] = year_data['Purchase Address'].apply(lambda x: get_city(x) + ' ' + get_state(x))\n",
    "year_data.head()"
   ]
  },
  {
   "cell_type": "code",
   "execution_count": 21,
   "id": "05f323a3",
   "metadata": {
    "execution": {
     "iopub.execute_input": "2021-09-13T13:28:05.105360Z",
     "iopub.status.busy": "2021-09-13T13:28:05.104638Z",
     "iopub.status.idle": "2021-09-13T13:28:05.183310Z",
     "shell.execute_reply": "2021-09-13T13:28:05.183783Z",
     "shell.execute_reply.started": "2021-09-13T12:40:04.567176Z"
    },
    "papermill": {
     "duration": 0.12729,
     "end_time": "2021-09-13T13:28:05.183979",
     "exception": false,
     "start_time": "2021-09-13T13:28:05.056689",
     "status": "completed"
    },
    "tags": []
   },
   "outputs": [
    {
     "data": {
      "text/html": [
       "<div>\n",
       "<style scoped>\n",
       "    .dataframe tbody tr th:only-of-type {\n",
       "        vertical-align: middle;\n",
       "    }\n",
       "\n",
       "    .dataframe tbody tr th {\n",
       "        vertical-align: top;\n",
       "    }\n",
       "\n",
       "    .dataframe thead th {\n",
       "        text-align: right;\n",
       "    }\n",
       "</style>\n",
       "<table border=\"1\" class=\"dataframe\">\n",
       "  <thead>\n",
       "    <tr style=\"text-align: right;\">\n",
       "      <th></th>\n",
       "      <th>Quantity Ordered</th>\n",
       "      <th>Price Each</th>\n",
       "      <th>Month</th>\n",
       "      <th>sales</th>\n",
       "    </tr>\n",
       "    <tr>\n",
       "      <th>City</th>\n",
       "      <th></th>\n",
       "      <th></th>\n",
       "      <th></th>\n",
       "      <th></th>\n",
       "    </tr>\n",
       "  </thead>\n",
       "  <tbody>\n",
       "    <tr>\n",
       "      <th>Atlanta GA</th>\n",
       "      <td>16602</td>\n",
       "      <td>2779908.20</td>\n",
       "      <td>104794</td>\n",
       "      <td>2795498.58</td>\n",
       "    </tr>\n",
       "    <tr>\n",
       "      <th>Austin TX</th>\n",
       "      <td>11153</td>\n",
       "      <td>1809873.61</td>\n",
       "      <td>69829</td>\n",
       "      <td>1819581.75</td>\n",
       "    </tr>\n",
       "    <tr>\n",
       "      <th>Boston MA</th>\n",
       "      <td>22528</td>\n",
       "      <td>3637409.77</td>\n",
       "      <td>141112</td>\n",
       "      <td>3661642.01</td>\n",
       "    </tr>\n",
       "    <tr>\n",
       "      <th>Dallas TX</th>\n",
       "      <td>16730</td>\n",
       "      <td>2752627.82</td>\n",
       "      <td>104620</td>\n",
       "      <td>2767975.40</td>\n",
       "    </tr>\n",
       "    <tr>\n",
       "      <th>Los Angeles CA</th>\n",
       "      <td>33289</td>\n",
       "      <td>5421435.23</td>\n",
       "      <td>208325</td>\n",
       "      <td>5452570.80</td>\n",
       "    </tr>\n",
       "    <tr>\n",
       "      <th>New York City NY</th>\n",
       "      <td>27932</td>\n",
       "      <td>4635370.83</td>\n",
       "      <td>175741</td>\n",
       "      <td>4664317.43</td>\n",
       "    </tr>\n",
       "    <tr>\n",
       "      <th>Portland ME</th>\n",
       "      <td>2750</td>\n",
       "      <td>447189.25</td>\n",
       "      <td>17144</td>\n",
       "      <td>449758.27</td>\n",
       "    </tr>\n",
       "    <tr>\n",
       "      <th>Portland OR</th>\n",
       "      <td>11303</td>\n",
       "      <td>1860558.22</td>\n",
       "      <td>70621</td>\n",
       "      <td>1870732.34</td>\n",
       "    </tr>\n",
       "    <tr>\n",
       "      <th>San Francisco CA</th>\n",
       "      <td>50239</td>\n",
       "      <td>8211461.74</td>\n",
       "      <td>315520</td>\n",
       "      <td>8262203.91</td>\n",
       "    </tr>\n",
       "    <tr>\n",
       "      <th>Seattle WA</th>\n",
       "      <td>16553</td>\n",
       "      <td>2733296.01</td>\n",
       "      <td>104941</td>\n",
       "      <td>2747755.48</td>\n",
       "    </tr>\n",
       "  </tbody>\n",
       "</table>\n",
       "</div>"
      ],
      "text/plain": [
       "                   Quantity Ordered  Price Each   Month       sales\n",
       "City                                                               \n",
       " Atlanta GA                   16602  2779908.20  104794  2795498.58\n",
       " Austin TX                    11153  1809873.61   69829  1819581.75\n",
       " Boston MA                    22528  3637409.77  141112  3661642.01\n",
       " Dallas TX                    16730  2752627.82  104620  2767975.40\n",
       " Los Angeles CA               33289  5421435.23  208325  5452570.80\n",
       " New York City NY             27932  4635370.83  175741  4664317.43\n",
       " Portland ME                   2750   447189.25   17144   449758.27\n",
       " Portland OR                  11303  1860558.22   70621  1870732.34\n",
       " San Francisco CA             50239  8211461.74  315520  8262203.91\n",
       " Seattle WA                   16553  2733296.01  104941  2747755.48"
      ]
     },
     "execution_count": 21,
     "metadata": {},
     "output_type": "execute_result"
    }
   ],
   "source": [
    "City_Sale_Results = year_data.groupby('City').sum()\n",
    "City_Sale_Results"
   ]
  },
  {
   "cell_type": "code",
   "execution_count": 22,
   "id": "2bbe584b",
   "metadata": {
    "execution": {
     "iopub.execute_input": "2021-09-13T13:28:05.275897Z",
     "iopub.status.busy": "2021-09-13T13:28:05.275200Z",
     "iopub.status.idle": "2021-09-13T13:28:05.538575Z",
     "shell.execute_reply": "2021-09-13T13:28:05.538038Z",
     "shell.execute_reply.started": "2021-09-13T12:40:04.651506Z"
    },
    "papermill": {
     "duration": 0.309261,
     "end_time": "2021-09-13T13:28:05.538733",
     "exception": false,
     "start_time": "2021-09-13T13:28:05.229472",
     "status": "completed"
    },
    "tags": []
   },
   "outputs": [
    {
     "data": {
      "image/png": "[encoded data removed]",
      "text/plain": [
       "<Figure size 432x288 with 1 Axes>"
      ]
     },
     "metadata": {
      "needs_background": "light"
     },
     "output_type": "display_data"
    }
   ],
   "source": [
    "# plot the city sale data in bar chart form\n",
    "\n",
    "import matplotlib.pyplot as plt # importing graph making library\n",
    "\n",
    "cities = [city for city, df in year_data.groupby('City')]  # this step is for arrangment of city names according to city column in data set other wise it can mix the citywise sales \n",
    "\n",
    "plt.bar (cities, City_Sale_Results['sales'])\n",
    "plt.xticks(cities, rotation='vertical', size=8) # to show number of each month for each bar in x axis\n",
    "plt.ylabel(\"Sales in USD ($)\")\n",
    "plt.xlabel (\"City Name\")\n",
    "plt.show()"
   ]
  },
  {
   "cell_type": "markdown",
   "id": "16d6f1a2",
   "metadata": {
    "papermill": {
     "duration": 0.043831,
     "end_time": "2021-09-13T13:28:05.626947",
     "exception": false,
     "start_time": "2021-09-13T13:28:05.583116",
     "status": "completed"
    },
    "tags": []
   },
   "source": [
    "**Q3 = What is best time for advertisement to increase the sales?**"
   ]
  },
  {
   "cell_type": "code",
   "execution_count": 23,
   "id": "581b46ff",
   "metadata": {
    "execution": {
     "iopub.execute_input": "2021-09-13T13:28:05.744755Z",
     "iopub.status.busy": "2021-09-13T13:28:05.728838Z",
     "iopub.status.idle": "2021-09-13T13:28:24.077869Z",
     "shell.execute_reply": "2021-09-13T13:28:24.077321Z",
     "shell.execute_reply.started": "2021-09-13T12:40:04.930207Z"
    },
    "papermill": {
     "duration": 18.406865,
     "end_time": "2021-09-13T13:28:24.078024",
     "exception": false,
     "start_time": "2021-09-13T13:28:05.671159",
     "status": "completed"
    },
    "tags": []
   },
   "outputs": [
    {
     "data": {
      "text/html": [
       "<div>\n",
       "<style scoped>\n",
       "    .dataframe tbody tr th:only-of-type {\n",
       "        vertical-align: middle;\n",
       "    }\n",
       "\n",
       "    .dataframe tbody tr th {\n",
       "        vertical-align: top;\n",
       "    }\n",
       "\n",
       "    .dataframe thead th {\n",
       "        text-align: right;\n",
       "    }\n",
       "</style>\n",
       "<table border=\"1\" class=\"dataframe\">\n",
       "  <thead>\n",
       "    <tr style=\"text-align: right;\">\n",
       "      <th></th>\n",
       "      <th>Order ID</th>\n",
       "      <th>Product</th>\n",
       "      <th>Quantity Ordered</th>\n",
       "      <th>Price Each</th>\n",
       "      <th>Order Date</th>\n",
       "      <th>Purchase Address</th>\n",
       "      <th>Month</th>\n",
       "      <th>sales</th>\n",
       "      <th>City</th>\n",
       "      <th>Hour</th>\n",
       "      <th>Minute</th>\n",
       "      <th>count</th>\n",
       "    </tr>\n",
       "  </thead>\n",
       "  <tbody>\n",
       "    <tr>\n",
       "      <th>0</th>\n",
       "      <td>236670</td>\n",
       "      <td>Wired Headphones</td>\n",
       "      <td>2</td>\n",
       "      <td>11.99</td>\n",
       "      <td>2019-08-31 22:21:00</td>\n",
       "      <td>359 Spruce St, Seattle, WA 98101</td>\n",
       "      <td>8</td>\n",
       "      <td>23.98</td>\n",
       "      <td>Seattle WA</td>\n",
       "      <td>22</td>\n",
       "      <td>21</td>\n",
       "      <td>1</td>\n",
       "    </tr>\n",
       "    <tr>\n",
       "      <th>1</th>\n",
       "      <td>236671</td>\n",
       "      <td>Bose SoundSport Headphones</td>\n",
       "      <td>1</td>\n",
       "      <td>99.99</td>\n",
       "      <td>2019-08-15 15:11:00</td>\n",
       "      <td>492 Ridge St, Dallas, TX 75001</td>\n",
       "      <td>8</td>\n",
       "      <td>99.99</td>\n",
       "      <td>Dallas TX</td>\n",
       "      <td>15</td>\n",
       "      <td>11</td>\n",
       "      <td>1</td>\n",
       "    </tr>\n",
       "    <tr>\n",
       "      <th>2</th>\n",
       "      <td>236672</td>\n",
       "      <td>iPhone</td>\n",
       "      <td>1</td>\n",
       "      <td>700.00</td>\n",
       "      <td>2019-08-06 14:40:00</td>\n",
       "      <td>149 7th St, Portland, OR 97035</td>\n",
       "      <td>8</td>\n",
       "      <td>700.00</td>\n",
       "      <td>Portland OR</td>\n",
       "      <td>14</td>\n",
       "      <td>40</td>\n",
       "      <td>1</td>\n",
       "    </tr>\n",
       "    <tr>\n",
       "      <th>3</th>\n",
       "      <td>236673</td>\n",
       "      <td>AA Batteries (4-pack)</td>\n",
       "      <td>2</td>\n",
       "      <td>3.84</td>\n",
       "      <td>2019-08-29 20:59:00</td>\n",
       "      <td>631 2nd St, Los Angeles, CA 90001</td>\n",
       "      <td>8</td>\n",
       "      <td>7.68</td>\n",
       "      <td>Los Angeles CA</td>\n",
       "      <td>20</td>\n",
       "      <td>59</td>\n",
       "      <td>1</td>\n",
       "    </tr>\n",
       "    <tr>\n",
       "      <th>4</th>\n",
       "      <td>236674</td>\n",
       "      <td>AA Batteries (4-pack)</td>\n",
       "      <td>2</td>\n",
       "      <td>3.84</td>\n",
       "      <td>2019-08-15 19:53:00</td>\n",
       "      <td>736 14th St, New York City, NY 10001</td>\n",
       "      <td>8</td>\n",
       "      <td>7.68</td>\n",
       "      <td>New York City NY</td>\n",
       "      <td>19</td>\n",
       "      <td>53</td>\n",
       "      <td>1</td>\n",
       "    </tr>\n",
       "  </tbody>\n",
       "</table>\n",
       "</div>"
      ],
      "text/plain": [
       "  Order ID                     Product  Quantity Ordered  Price Each  \\\n",
       "0   236670            Wired Headphones                 2       11.99   \n",
       "1   236671  Bose SoundSport Headphones                 1       99.99   \n",
       "2   236672                      iPhone                 1      700.00   \n",
       "3   236673       AA Batteries (4-pack)                 2        3.84   \n",
       "4   236674       AA Batteries (4-pack)                 2        3.84   \n",
       "\n",
       "           Order Date                      Purchase Address  Month   sales  \\\n",
       "0 2019-08-31 22:21:00      359 Spruce St, Seattle, WA 98101      8   23.98   \n",
       "1 2019-08-15 15:11:00        492 Ridge St, Dallas, TX 75001      8   99.99   \n",
       "2 2019-08-06 14:40:00        149 7th St, Portland, OR 97035      8  700.00   \n",
       "3 2019-08-29 20:59:00     631 2nd St, Los Angeles, CA 90001      8    7.68   \n",
       "4 2019-08-15 19:53:00  736 14th St, New York City, NY 10001      8    7.68   \n",
       "\n",
       "                City  Hour  Minute  count  \n",
       "0         Seattle WA    22      21      1  \n",
       "1          Dallas TX    15      11      1  \n",
       "2        Portland OR    14      40      1  \n",
       "3     Los Angeles CA    20      59      1  \n",
       "4   New York City NY    19      53      1  "
      ]
     },
     "execution_count": 23,
     "metadata": {},
     "output_type": "execute_result"
    }
   ],
   "source": [
    "# first need to split time column from \"Order Date\" column in data set\n",
    "\n",
    "year_data['Order Date'] = pd.to_datetime(year_data['Order Date']) # to change the style of  \"Order Date\" column so it make easy to split time\n",
    "\n",
    "year_data['Hour'] = year_data['Order Date'].dt.hour  # to get the \"hour\" from \"Order Date\" column\n",
    "year_data['Minute'] = year_data['Order Date'].dt.minute # to get the \"minute\" from \"Order Date\" column\n",
    "year_data['count'] = 1 # for all rows of data set\n",
    "year_data.head()\n"
   ]
  },
  {
   "cell_type": "code",
   "execution_count": 24,
   "id": "010cb0e2",
   "metadata": {
    "execution": {
     "iopub.execute_input": "2021-09-13T13:28:24.179135Z",
     "iopub.status.busy": "2021-09-13T13:28:24.178065Z",
     "iopub.status.idle": "2021-09-13T13:28:24.651786Z",
     "shell.execute_reply": "2021-09-13T13:28:24.652371Z",
     "shell.execute_reply.started": "2021-09-13T12:40:19.899066Z"
    },
    "papermill": {
     "duration": 0.529032,
     "end_time": "2021-09-13T13:28:24.652567",
     "exception": false,
     "start_time": "2021-09-13T13:28:24.123535",
     "status": "completed"
    },
    "tags": []
   },
   "outputs": [
    {
     "data": {
      "image/png": "[encoded data removed]",
      "text/plain": [
       "<Figure size 432x288 with 1 Axes>"
      ]
     },
     "metadata": {
      "needs_background": "light"
     },
     "output_type": "display_data"
    }
   ],
   "source": [
    "# now plot it in line chart form\n",
    "\n",
    "Hours = [Hour for Hour, df in year_data.groupby('Hour')]\n",
    "plt.plot(Hours, year_data.groupby(['Hour']).count())\n",
    "plt.xticks(Hours)\n",
    "plt.ylabel(\"Number of Orders\")\n",
    "plt.xlabel (\"Hour\")\n",
    "plt.grid()\n",
    "plt.show()"
   ]
  },
  {
   "cell_type": "markdown",
   "id": "3e6cff1d",
   "metadata": {
    "papermill": {
     "duration": 0.045495,
     "end_time": "2021-09-13T13:28:24.744155",
     "exception": false,
     "start_time": "2021-09-13T13:28:24.698660",
     "status": "completed"
    },
    "tags": []
   },
   "source": [
    "**Q4: What product are most often Sold Together?**"
   ]
  },
  {
   "cell_type": "code",
   "execution_count": 25,
   "id": "812d0428",
   "metadata": {
    "execution": {
     "iopub.execute_input": "2021-09-13T13:28:24.838526Z",
     "iopub.status.busy": "2021-09-13T13:28:24.837901Z",
     "iopub.status.idle": "2021-09-13T13:28:24.915750Z",
     "shell.execute_reply": "2021-09-13T13:28:24.916295Z",
     "shell.execute_reply.started": "2021-09-13T12:40:20.281052Z"
    },
    "papermill": {
     "duration": 0.12664,
     "end_time": "2021-09-13T13:28:24.916463",
     "exception": false,
     "start_time": "2021-09-13T13:28:24.789823",
     "status": "completed"
    },
    "tags": []
   },
   "outputs": [
    {
     "data": {
      "text/html": [
       "<div>\n",
       "<style scoped>\n",
       "    .dataframe tbody tr th:only-of-type {\n",
       "        vertical-align: middle;\n",
       "    }\n",
       "\n",
       "    .dataframe tbody tr th {\n",
       "        vertical-align: top;\n",
       "    }\n",
       "\n",
       "    .dataframe thead th {\n",
       "        text-align: right;\n",
       "    }\n",
       "</style>\n",
       "<table border=\"1\" class=\"dataframe\">\n",
       "  <thead>\n",
       "    <tr style=\"text-align: right;\">\n",
       "      <th></th>\n",
       "      <th>Order ID</th>\n",
       "      <th>Product</th>\n",
       "      <th>Quantity Ordered</th>\n",
       "      <th>Price Each</th>\n",
       "      <th>Order Date</th>\n",
       "      <th>Purchase Address</th>\n",
       "      <th>Month</th>\n",
       "      <th>sales</th>\n",
       "      <th>City</th>\n",
       "      <th>Hour</th>\n",
       "      <th>Minute</th>\n",
       "      <th>count</th>\n",
       "    </tr>\n",
       "  </thead>\n",
       "  <tbody>\n",
       "    <tr>\n",
       "      <th>46</th>\n",
       "      <td>236716</td>\n",
       "      <td>AA Batteries (4-pack)</td>\n",
       "      <td>2</td>\n",
       "      <td>3.84</td>\n",
       "      <td>2019-08-17 20:12:00</td>\n",
       "      <td>84 Cedar St, San Francisco, CA 94016</td>\n",
       "      <td>8</td>\n",
       "      <td>7.68</td>\n",
       "      <td>San Francisco CA</td>\n",
       "      <td>20</td>\n",
       "      <td>12</td>\n",
       "      <td>1</td>\n",
       "    </tr>\n",
       "    <tr>\n",
       "      <th>47</th>\n",
       "      <td>236716</td>\n",
       "      <td>USB-C Charging Cable</td>\n",
       "      <td>1</td>\n",
       "      <td>11.95</td>\n",
       "      <td>2019-08-17 20:12:00</td>\n",
       "      <td>84 Cedar St, San Francisco, CA 94016</td>\n",
       "      <td>8</td>\n",
       "      <td>11.95</td>\n",
       "      <td>San Francisco CA</td>\n",
       "      <td>20</td>\n",
       "      <td>12</td>\n",
       "      <td>1</td>\n",
       "    </tr>\n",
       "    <tr>\n",
       "      <th>60</th>\n",
       "      <td>236729</td>\n",
       "      <td>iPhone</td>\n",
       "      <td>1</td>\n",
       "      <td>700.00</td>\n",
       "      <td>2019-08-09 09:28:00</td>\n",
       "      <td>635 Lake St, San Francisco, CA 94016</td>\n",
       "      <td>8</td>\n",
       "      <td>700.00</td>\n",
       "      <td>San Francisco CA</td>\n",
       "      <td>9</td>\n",
       "      <td>28</td>\n",
       "      <td>1</td>\n",
       "    </tr>\n",
       "    <tr>\n",
       "      <th>61</th>\n",
       "      <td>236729</td>\n",
       "      <td>Apple Airpods Headphones</td>\n",
       "      <td>1</td>\n",
       "      <td>150.00</td>\n",
       "      <td>2019-08-09 09:28:00</td>\n",
       "      <td>635 Lake St, San Francisco, CA 94016</td>\n",
       "      <td>8</td>\n",
       "      <td>150.00</td>\n",
       "      <td>San Francisco CA</td>\n",
       "      <td>9</td>\n",
       "      <td>28</td>\n",
       "      <td>1</td>\n",
       "    </tr>\n",
       "    <tr>\n",
       "      <th>62</th>\n",
       "      <td>236730</td>\n",
       "      <td>Google Phone</td>\n",
       "      <td>1</td>\n",
       "      <td>600.00</td>\n",
       "      <td>2019-08-02 10:17:00</td>\n",
       "      <td>445 Lincoln St, New York City, NY 10001</td>\n",
       "      <td>8</td>\n",
       "      <td>600.00</td>\n",
       "      <td>New York City NY</td>\n",
       "      <td>10</td>\n",
       "      <td>17</td>\n",
       "      <td>1</td>\n",
       "    </tr>\n",
       "    <tr>\n",
       "      <th>63</th>\n",
       "      <td>236730</td>\n",
       "      <td>Wired Headphones</td>\n",
       "      <td>1</td>\n",
       "      <td>11.99</td>\n",
       "      <td>2019-08-02 10:17:00</td>\n",
       "      <td>445 Lincoln St, New York City, NY 10001</td>\n",
       "      <td>8</td>\n",
       "      <td>11.99</td>\n",
       "      <td>New York City NY</td>\n",
       "      <td>10</td>\n",
       "      <td>17</td>\n",
       "      <td>1</td>\n",
       "    </tr>\n",
       "    <tr>\n",
       "      <th>132</th>\n",
       "      <td>236799</td>\n",
       "      <td>Google Phone</td>\n",
       "      <td>1</td>\n",
       "      <td>600.00</td>\n",
       "      <td>2019-08-01 12:38:00</td>\n",
       "      <td>309 2nd St, San Francisco, CA 94016</td>\n",
       "      <td>8</td>\n",
       "      <td>600.00</td>\n",
       "      <td>San Francisco CA</td>\n",
       "      <td>12</td>\n",
       "      <td>38</td>\n",
       "      <td>1</td>\n",
       "    </tr>\n",
       "    <tr>\n",
       "      <th>133</th>\n",
       "      <td>236799</td>\n",
       "      <td>Wired Headphones</td>\n",
       "      <td>1</td>\n",
       "      <td>11.99</td>\n",
       "      <td>2019-08-01 12:38:00</td>\n",
       "      <td>309 2nd St, San Francisco, CA 94016</td>\n",
       "      <td>8</td>\n",
       "      <td>11.99</td>\n",
       "      <td>San Francisco CA</td>\n",
       "      <td>12</td>\n",
       "      <td>38</td>\n",
       "      <td>1</td>\n",
       "    </tr>\n",
       "    <tr>\n",
       "      <th>163</th>\n",
       "      <td>236829</td>\n",
       "      <td>Vareebadd Phone</td>\n",
       "      <td>1</td>\n",
       "      <td>400.00</td>\n",
       "      <td>2019-08-16 08:51:00</td>\n",
       "      <td>27 2nd St, Los Angeles, CA 90001</td>\n",
       "      <td>8</td>\n",
       "      <td>400.00</td>\n",
       "      <td>Los Angeles CA</td>\n",
       "      <td>8</td>\n",
       "      <td>51</td>\n",
       "      <td>1</td>\n",
       "    </tr>\n",
       "    <tr>\n",
       "      <th>164</th>\n",
       "      <td>236829</td>\n",
       "      <td>USB-C Charging Cable</td>\n",
       "      <td>1</td>\n",
       "      <td>11.95</td>\n",
       "      <td>2019-08-16 08:51:00</td>\n",
       "      <td>27 2nd St, Los Angeles, CA 90001</td>\n",
       "      <td>8</td>\n",
       "      <td>11.95</td>\n",
       "      <td>Los Angeles CA</td>\n",
       "      <td>8</td>\n",
       "      <td>51</td>\n",
       "      <td>1</td>\n",
       "    </tr>\n",
       "  </tbody>\n",
       "</table>\n",
       "</div>"
      ],
      "text/plain": [
       "    Order ID                   Product  Quantity Ordered  Price Each  \\\n",
       "46    236716     AA Batteries (4-pack)                 2        3.84   \n",
       "47    236716      USB-C Charging Cable                 1       11.95   \n",
       "60    236729                    iPhone                 1      700.00   \n",
       "61    236729  Apple Airpods Headphones                 1      150.00   \n",
       "62    236730              Google Phone                 1      600.00   \n",
       "63    236730          Wired Headphones                 1       11.99   \n",
       "132   236799              Google Phone                 1      600.00   \n",
       "133   236799          Wired Headphones                 1       11.99   \n",
       "163   236829           Vareebadd Phone                 1      400.00   \n",
       "164   236829      USB-C Charging Cable                 1       11.95   \n",
       "\n",
       "             Order Date                         Purchase Address  Month  \\\n",
       "46  2019-08-17 20:12:00     84 Cedar St, San Francisco, CA 94016      8   \n",
       "47  2019-08-17 20:12:00     84 Cedar St, San Francisco, CA 94016      8   \n",
       "60  2019-08-09 09:28:00     635 Lake St, San Francisco, CA 94016      8   \n",
       "61  2019-08-09 09:28:00     635 Lake St, San Francisco, CA 94016      8   \n",
       "62  2019-08-02 10:17:00  445 Lincoln St, New York City, NY 10001      8   \n",
       "63  2019-08-02 10:17:00  445 Lincoln St, New York City, NY 10001      8   \n",
       "132 2019-08-01 12:38:00      309 2nd St, San Francisco, CA 94016      8   \n",
       "133 2019-08-01 12:38:00      309 2nd St, San Francisco, CA 94016      8   \n",
       "163 2019-08-16 08:51:00         27 2nd St, Los Angeles, CA 90001      8   \n",
       "164 2019-08-16 08:51:00         27 2nd St, Los Angeles, CA 90001      8   \n",
       "\n",
       "      sales               City  Hour  Minute  count  \n",
       "46     7.68   San Francisco CA    20      12      1  \n",
       "47    11.95   San Francisco CA    20      12      1  \n",
       "60   700.00   San Francisco CA     9      28      1  \n",
       "61   150.00   San Francisco CA     9      28      1  \n",
       "62   600.00   New York City NY    10      17      1  \n",
       "63    11.99   New York City NY    10      17      1  \n",
       "132  600.00   San Francisco CA    12      38      1  \n",
       "133   11.99   San Francisco CA    12      38      1  \n",
       "163  400.00     Los Angeles CA     8      51      1  \n",
       "164   11.95     Los Angeles CA     8      51      1  "
      ]
     },
     "execution_count": 25,
     "metadata": {},
     "output_type": "execute_result"
    }
   ],
   "source": [
    "# this can be done by finding duplicate order IDs in data frame and then arrange them\n",
    "\n",
    "df = year_data[year_data['Order ID'].duplicated(keep = False)] \n",
    "\n",
    "# df = new data frame, it will find/store duplicated Oreder IDs from year_data, False = print all elemnts of \"Product\" while duplicate\n",
    "\n",
    "\n",
    "\n",
    "df.head(10)"
   ]
  },
  {
   "cell_type": "code",
   "execution_count": 26,
   "id": "d12e7da0",
   "metadata": {
    "execution": {
     "iopub.execute_input": "2021-09-13T13:28:25.013879Z",
     "iopub.status.busy": "2021-09-13T13:28:25.013207Z",
     "iopub.status.idle": "2021-09-13T13:28:25.810057Z",
     "shell.execute_reply": "2021-09-13T13:28:25.810579Z",
     "shell.execute_reply.started": "2021-09-13T12:40:20.351744Z"
    },
    "papermill": {
     "duration": 0.84807,
     "end_time": "2021-09-13T13:28:25.810743",
     "exception": false,
     "start_time": "2021-09-13T13:28:24.962673",
     "status": "completed"
    },
    "tags": []
   },
   "outputs": [
    {
     "name": "stderr",
     "output_type": "stream",
     "text": [
      "/opt/conda/lib/python3.7/site-packages/ipykernel_launcher.py:4: SettingWithCopyWarning: \n",
      "A value is trying to be set on a copy of a slice from a DataFrame.\n",
      "Try using .loc[row_indexer,col_indexer] = value instead\n",
      "\n",
      "See the caveats in the documentation: https://pandas.pydata.org/pandas-docs/stable/user_guide/indexing.html#returning-a-view-versus-a-copy\n",
      "  after removing the cwd from sys.path.\n"
     ]
    },
    {
     "data": {
      "text/html": [
       "<div>\n",
       "<style scoped>\n",
       "    .dataframe tbody tr th:only-of-type {\n",
       "        vertical-align: middle;\n",
       "    }\n",
       "\n",
       "    .dataframe tbody tr th {\n",
       "        vertical-align: top;\n",
       "    }\n",
       "\n",
       "    .dataframe thead th {\n",
       "        text-align: right;\n",
       "    }\n",
       "</style>\n",
       "<table border=\"1\" class=\"dataframe\">\n",
       "  <thead>\n",
       "    <tr style=\"text-align: right;\">\n",
       "      <th></th>\n",
       "      <th>Order ID</th>\n",
       "      <th>Grouped</th>\n",
       "    </tr>\n",
       "  </thead>\n",
       "  <tbody>\n",
       "    <tr>\n",
       "      <th>46</th>\n",
       "      <td>236716</td>\n",
       "      <td>AA Batteries (4-pack),USB-C Charging Cable</td>\n",
       "    </tr>\n",
       "    <tr>\n",
       "      <th>60</th>\n",
       "      <td>236729</td>\n",
       "      <td>iPhone,Apple Airpods Headphones</td>\n",
       "    </tr>\n",
       "    <tr>\n",
       "      <th>62</th>\n",
       "      <td>236730</td>\n",
       "      <td>Google Phone,Wired Headphones</td>\n",
       "    </tr>\n",
       "    <tr>\n",
       "      <th>132</th>\n",
       "      <td>236799</td>\n",
       "      <td>Google Phone,Wired Headphones</td>\n",
       "    </tr>\n",
       "    <tr>\n",
       "      <th>163</th>\n",
       "      <td>236829</td>\n",
       "      <td>Vareebadd Phone,USB-C Charging Cable</td>\n",
       "    </tr>\n",
       "  </tbody>\n",
       "</table>\n",
       "</div>"
      ],
      "text/plain": [
       "    Order ID                                     Grouped\n",
       "46    236716  AA Batteries (4-pack),USB-C Charging Cable\n",
       "60    236729             iPhone,Apple Airpods Headphones\n",
       "62    236730               Google Phone,Wired Headphones\n",
       "132   236799               Google Phone,Wired Headphones\n",
       "163   236829        Vareebadd Phone,USB-C Charging Cable"
      ]
     },
     "execution_count": 26,
     "metadata": {},
     "output_type": "execute_result"
    }
   ],
   "source": [
    "# now we will Group the products with same Orders IDs and make new column\n",
    "\n",
    "\n",
    "df['Grouped'] = df.groupby('Order ID')['Product'].transform(lambda x: (',').join(x) )\n",
    "\n",
    "# Grouped = New Column, it will group the Order IDs, and in paralle collect values from \"Product\" column and join then with comma sperator\n",
    "# dont worry about error \"Try using .loc[row_indexer,col_indexer] = value instead\" \n",
    "df = df[['Order ID', 'Grouped']].drop_duplicates() # it will drop the rows with similar entries\n",
    "\n",
    "df.head()"
   ]
  },
  {
   "cell_type": "code",
   "execution_count": 27,
   "id": "10b400ec",
   "metadata": {
    "execution": {
     "iopub.execute_input": "2021-09-13T13:28:25.915464Z",
     "iopub.status.busy": "2021-09-13T13:28:25.914767Z",
     "iopub.status.idle": "2021-09-13T13:28:25.970580Z",
     "shell.execute_reply": "2021-09-13T13:28:25.971245Z",
     "shell.execute_reply.started": "2021-09-13T12:40:21.093962Z"
    },
    "papermill": {
     "duration": 0.112447,
     "end_time": "2021-09-13T13:28:25.971473",
     "exception": false,
     "start_time": "2021-09-13T13:28:25.859026",
     "status": "completed"
    },
    "tags": []
   },
   "outputs": [
    {
     "name": "stdout",
     "output_type": "stream",
     "text": [
      "('iPhone', 'Lightning Charging Cable') 1005\n",
      "('Google Phone', 'USB-C Charging Cable') 987\n",
      "('iPhone', 'Wired Headphones') 447\n",
      "('Google Phone', 'Wired Headphones') 414\n",
      "('Vareebadd Phone', 'USB-C Charging Cable') 361\n",
      "('iPhone', 'Apple Airpods Headphones') 360\n",
      "('Google Phone', 'Bose SoundSport Headphones') 220\n",
      "('USB-C Charging Cable', 'Wired Headphones') 160\n",
      "('Vareebadd Phone', 'Wired Headphones') 143\n",
      "('Lightning Charging Cable', 'Wired Headphones') 92\n"
     ]
    }
   ],
   "source": [
    "# now we need to import further libraries\n",
    "\n",
    "from itertools import combinations\n",
    "from collections import Counter\n",
    "\n",
    "\n",
    "count = Counter()\n",
    "for row in df['Grouped']:    # row = list\n",
    "    row_list = row.split(',') # row_list = sublist\n",
    "    count.update(Counter(combinations(row_list, 2))) # 2 = two number of items \n",
    "    \n",
    "\n",
    "for key, value in count.most_common(10):\n",
    "    print(key, value)"
   ]
  },
  {
   "cell_type": "markdown",
   "id": "787b75b1",
   "metadata": {
    "papermill": {
     "duration": 0.048412,
     "end_time": "2021-09-13T13:28:26.068725",
     "exception": false,
     "start_time": "2021-09-13T13:28:26.020313",
     "status": "completed"
    },
    "tags": []
   },
   "source": [
    "**Q5 = What Product sold the Most and Why?**"
   ]
  },
  {
   "cell_type": "code",
   "execution_count": 28,
   "id": "3269e9d8",
   "metadata": {
    "execution": {
     "iopub.execute_input": "2021-09-13T13:28:26.173569Z",
     "iopub.status.busy": "2021-09-13T13:28:26.172881Z",
     "iopub.status.idle": "2021-09-13T13:28:26.574269Z",
     "shell.execute_reply": "2021-09-13T13:28:26.573642Z",
     "shell.execute_reply.started": "2021-09-13T12:40:21.139960Z"
    },
    "papermill": {
     "duration": 0.457741,
     "end_time": "2021-09-13T13:28:26.574402",
     "exception": false,
     "start_time": "2021-09-13T13:28:26.116661",
     "status": "completed"
    },
    "tags": []
   },
   "outputs": [
    {
     "data": {
      "image/png": "[encoded data removed]",
      "text/plain": [
       "<Figure size 432x288 with 1 Axes>"
      ]
     },
     "metadata": {
      "needs_background": "light"
     },
     "output_type": "display_data"
    }
   ],
   "source": [
    "# as per strategy we need to sum the \"Quantity Ordered\" while lookup \"Product\"\n",
    "\n",
    "product_group = year_data.groupby('Product')\n",
    "Quantity_ordered = product_group.sum()['Quantity Ordered']\n",
    "\n",
    "products = [product for product , df in product_group ]\n",
    "\n",
    "plt.bar(products, Quantity_ordered)\n",
    "plt.xticks(products, rotation='vertical', size=8)\n",
    "plt.ylabel(\"Quantity of Orders\")\n",
    "plt.xlabel (\"Product Name\")\n",
    "plt.show()\n"
   ]
  },
  {
   "cell_type": "markdown",
   "id": "815d8884",
   "metadata": {
    "papermill": {
     "duration": 0.049088,
     "end_time": "2021-09-13T13:28:26.672044",
     "exception": false,
     "start_time": "2021-09-13T13:28:26.622956",
     "status": "completed"
    },
    "tags": []
   },
   "source": [
    "**Q6 = What is relationship between Most saled products and their prices?**"
   ]
  },
  {
   "cell_type": "code",
   "execution_count": 29,
   "id": "9203dceb",
   "metadata": {
    "execution": {
     "iopub.execute_input": "2021-09-13T13:28:26.790082Z",
     "iopub.status.busy": "2021-09-13T13:28:26.789336Z",
     "iopub.status.idle": "2021-09-13T13:28:26.837456Z",
     "shell.execute_reply": "2021-09-13T13:28:26.838075Z",
     "shell.execute_reply.started": "2021-09-13T12:40:21.642105Z"
    },
    "papermill": {
     "duration": 0.117475,
     "end_time": "2021-09-13T13:28:26.838247",
     "exception": false,
     "start_time": "2021-09-13T13:28:26.720772",
     "status": "completed"
    },
    "tags": []
   },
   "outputs": [
    {
     "name": "stdout",
     "output_type": "stream",
     "text": [
      "Product\n",
      "20in Monitor                   109.99\n",
      "27in 4K Gaming Monitor         389.99\n",
      "27in FHD Monitor               149.99\n",
      "34in Ultrawide Monitor         379.99\n",
      "AA Batteries (4-pack)            3.84\n",
      "AAA Batteries (4-pack)           2.99\n",
      "Apple Airpods Headphones       150.00\n",
      "Bose SoundSport Headphones      99.99\n",
      "Flatscreen TV                  300.00\n",
      "Google Phone                   600.00\n",
      "LG Dryer                       600.00\n",
      "LG Washing Machine             600.00\n",
      "Lightning Charging Cable        14.95\n",
      "Macbook Pro Laptop            1700.00\n",
      "ThinkPad Laptop                999.99\n",
      "USB-C Charging Cable            11.95\n",
      "Vareebadd Phone                400.00\n",
      "Wired Headphones                11.99\n",
      "iPhone                         700.00\n",
      "Name: Price Each, dtype: float64\n"
     ]
    }
   ],
   "source": [
    "prices = year_data.groupby(\"Product\").mean()['Price Each']\n",
    "print(prices)"
   ]
  },
  {
   "cell_type": "code",
   "execution_count": 30,
   "id": "483dc4b9",
   "metadata": {
    "execution": {
     "iopub.execute_input": "2021-09-13T13:28:26.962519Z",
     "iopub.status.busy": "2021-09-13T13:28:26.942694Z",
     "iopub.status.idle": "2021-09-13T13:28:27.459413Z",
     "shell.execute_reply": "2021-09-13T13:28:27.459903Z",
     "shell.execute_reply.started": "2021-09-13T13:25:16.724870Z"
    },
    "papermill": {
     "duration": 0.571357,
     "end_time": "2021-09-13T13:28:27.460071",
     "exception": false,
     "start_time": "2021-09-13T13:28:26.888714",
     "status": "completed"
    },
    "tags": []
   },
   "outputs": [
    {
     "name": "stderr",
     "output_type": "stream",
     "text": [
      "/opt/conda/lib/python3.7/site-packages/ipykernel_launcher.py:13: UserWarning: FixedFormatter should only be used together with FixedLocator\n",
      "  del sys.path[0]\n"
     ]
    },
    {
     "data": {
      "image/png": "[encoded data removed]",
      "text/plain": [
       "<Figure size 432x288 with 2 Axes>"
      ]
     },
     "metadata": {
      "needs_background": "light"
     },
     "output_type": "display_data"
    }
   ],
   "source": [
    "#import matplotlib as mpl\n",
    "#import matplotlib.pyplot as plt\n",
    "#import matplotlib.ticker as mticker\n",
    "\n",
    "fig, ax1 = plt.subplots()\n",
    "\n",
    "ax2 = ax1.twinx()\n",
    "ax1.bar (products, Quantity_ordered, color='green')\n",
    "ax2.plot (products, prices, 'b')\n",
    "ax1.set_xlabel (\"Product Name\")\n",
    "ax1.set_ylabel (\"Quantity_Ordered\", color = 'g')\n",
    "ax2.set_ylabel (\"Prices\", color = 'b')\n",
    "ax1.set_xticklabels(products, rotation='vertical', size=8)\n",
    "\n",
    "plt.show()"
   ]
  },
  {
   "cell_type": "code",
   "execution_count": null,
   "id": "00ec3034",
   "metadata": {
    "papermill": {
     "duration": 0.049657,
     "end_time": "2021-09-13T13:28:27.560381",
     "exception": false,
     "start_time": "2021-09-13T13:28:27.510724",
     "status": "completed"
    },
    "tags": []
   },
   "outputs": [],
   "source": []
  }
 ],
 "metadata": {
  "kernelspec": {
   "display_name": "Python 3",
   "language": "python",
   "name": "python3"
  },
  "language_info": {
   "codemirror_mode": {
    "name": "ipython",
    "version": 3
   },
   "file_extension": ".py",
   "mimetype": "text/x-python",
   "name": "python",
   "nbconvert_exporter": "python",
   "pygments_lexer": "ipython3",
   "version": "3.7.10"
  },
  "papermill": {
   "default_parameters": {},
   "duration": 37.887548,
   "end_time": "2021-09-13T13:28:28.870315",
   "environment_variables": {},
   "exception": null,
   "input_path": "__notebook__.ipynb",
   "output_path": "__notebook__.ipynb",
   "parameters": {},
   "start_time": "2021-09-13T13:27:50.982767",
   "version": "2.3.3"
  }
 },
 "nbformat": 4,
 "nbformat_minor": 5
}
